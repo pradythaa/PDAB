{
  "nbformat": 4,
  "nbformat_minor": 0,
  "metadata": {
    "colab": {
      "provenance": []
    },
    "kernelspec": {
      "name": "python3",
      "display_name": "Python 3"
    },
    "language_info": {
      "name": "python"
    }
  },
  "cells": [
    {
      "cell_type": "markdown",
      "source": [
        "# **Bab 11: Neural Nets**\n",
        "\n",
        "**Pradytha Galuh P, Virgiawan Malik R, Nur Aini Rahayu P.L, Ziyad Athoillah, Ibnu Raihan**\n",
        "\n",
        "Bab ini membahas jaringan saraf sebagai metode berbasis data yang fleksibel untuk klasifikasi, prediksi, dan ekstraksi fitur, serta sebagai dasar pembelajaran mendalam. Dijelaskan konsep node dan lapisan (input, tersembunyi, output), cara kerja jaringan, serta proses pelatihan menggunakan data. Mengingat risiko overfitting, disajikan strategi pencegahannya. Juga dibahas parameter-parameter penting yang memengaruhi proses pelatihan. Akhirnya, pembahasan diperluas ke jaringan saraf yang lebih dalam dalam konteks pembelajaran mendalam.\n"
      ],
      "metadata": {
        "id": "RXBtLbmxUexz"
      }
    },
    {
      "cell_type": "markdown",
      "source": [
        "# **Python**"
      ],
      "metadata": {
        "id": "C6_7frkhju2J"
      }
    },
    {
      "cell_type": "markdown",
      "source": [
        "**Import Library required functionality for this chapter**"
      ],
      "metadata": {
        "id": "MlmfR2iBU2hW"
      }
    },
    {
      "cell_type": "code",
      "source": [
        "import pandas as pd\n",
        "from sklearn.model_selection import train_test_split\n",
        "from sklearn.neural_network import MLPClassifier\n",
        "from dmba import classificationSummary"
      ],
      "metadata": {
        "colab": {
          "base_uri": "https://localhost:8080/"
        },
        "id": "cUU_ST9aU7xN",
        "outputId": "d8cf8f30-b68c-44b1-fea1-5713a662e4aa"
      },
      "execution_count": null,
      "outputs": [
        {
          "output_type": "stream",
          "name": "stdout",
          "text": [
            "Colab environment detected.\n"
          ]
        }
      ]
    },
    {
      "cell_type": "code",
      "metadata": {
        "colab": {
          "base_uri": "https://localhost:8080/"
        },
        "id": "c6cc4a6e",
        "outputId": "1f2f955f-9603-4932-936d-e972862ce93f"
      },
      "source": [
        "%pip install dmba"
      ],
      "execution_count": null,
      "outputs": [
        {
          "output_type": "stream",
          "name": "stdout",
          "text": [
            "Collecting dmba\n",
            "  Downloading dmba-0.2.4-py3-none-any.whl.metadata (1.9 kB)\n",
            "Requirement already satisfied: graphviz in /usr/local/lib/python3.11/dist-packages (from dmba) (0.21)\n",
            "Requirement already satisfied: matplotlib in /usr/local/lib/python3.11/dist-packages (from dmba) (3.10.0)\n",
            "Requirement already satisfied: numpy in /usr/local/lib/python3.11/dist-packages (from dmba) (2.0.2)\n",
            "Requirement already satisfied: pandas in /usr/local/lib/python3.11/dist-packages (from dmba) (2.2.2)\n",
            "Requirement already satisfied: scikit-learn in /usr/local/lib/python3.11/dist-packages (from dmba) (1.6.1)\n",
            "Requirement already satisfied: scipy in /usr/local/lib/python3.11/dist-packages (from dmba) (1.15.3)\n",
            "Requirement already satisfied: contourpy>=1.0.1 in /usr/local/lib/python3.11/dist-packages (from matplotlib->dmba) (1.3.2)\n",
            "Requirement already satisfied: cycler>=0.10 in /usr/local/lib/python3.11/dist-packages (from matplotlib->dmba) (0.12.1)\n",
            "Requirement already satisfied: fonttools>=4.22.0 in /usr/local/lib/python3.11/dist-packages (from matplotlib->dmba) (4.58.4)\n",
            "Requirement already satisfied: kiwisolver>=1.3.1 in /usr/local/lib/python3.11/dist-packages (from matplotlib->dmba) (1.4.8)\n",
            "Requirement already satisfied: packaging>=20.0 in /usr/local/lib/python3.11/dist-packages (from matplotlib->dmba) (24.2)\n",
            "Requirement already satisfied: pillow>=8 in /usr/local/lib/python3.11/dist-packages (from matplotlib->dmba) (11.2.1)\n",
            "Requirement already satisfied: pyparsing>=2.3.1 in /usr/local/lib/python3.11/dist-packages (from matplotlib->dmba) (3.2.3)\n",
            "Requirement already satisfied: python-dateutil>=2.7 in /usr/local/lib/python3.11/dist-packages (from matplotlib->dmba) (2.9.0.post0)\n",
            "Requirement already satisfied: pytz>=2020.1 in /usr/local/lib/python3.11/dist-packages (from pandas->dmba) (2025.2)\n",
            "Requirement already satisfied: tzdata>=2022.7 in /usr/local/lib/python3.11/dist-packages (from pandas->dmba) (2025.2)\n",
            "Requirement already satisfied: joblib>=1.2.0 in /usr/local/lib/python3.11/dist-packages (from scikit-learn->dmba) (1.5.1)\n",
            "Requirement already satisfied: threadpoolctl>=3.1.0 in /usr/local/lib/python3.11/dist-packages (from scikit-learn->dmba) (3.6.0)\n",
            "Requirement already satisfied: six>=1.5 in /usr/local/lib/python3.11/dist-packages (from python-dateutil>=2.7->matplotlib->dmba) (1.17.0)\n",
            "Downloading dmba-0.2.4-py3-none-any.whl (11.8 MB)\n",
            "\u001b[2K   \u001b[90m━━━━━━━━━━━━━━━━━━━━━━━━━━━━━━━━━━━━━━━━\u001b[0m \u001b[32m11.8/11.8 MB\u001b[0m \u001b[31m100.4 MB/s\u001b[0m eta \u001b[36m0:00:00\u001b[0m\n",
            "\u001b[?25hInstalling collected packages: dmba\n",
            "Successfully installed dmba-0.2.4\n"
          ]
        }
      ]
    },
    {
      "cell_type": "markdown",
      "source": [
        "# **Pendahuluan (11.1 Introduction)**"
      ],
      "metadata": {
        "id": "Ovn5gKM0avjP"
      }
    },
    {
      "cell_type": "markdown",
      "source": [
        "Neural networks atau jaringan saraf tiruan merupakan salah satu metode pembelajaran mesin yang sangat fleksibel dan dapat digunakan untuk berbagai tujuan, seperti klasifikasi, prediksi, hingga ekstraksi fitur. Teknik ini terinspirasi dari cara kerja otak manusia, di mana neuron-neuron saling terhubung dan belajar dari pengalaman. Dalam praktiknya, neural networks menjadi fondasi dari deep learning, sebuah pendekatan yang digunakan secara luas dalam aplikasi kecerdasan buatan seperti pengenalan wajah, suara, serta kendaraan otonom.\n",
        "\n",
        "Keunggulan utama dari neural networks terletak pada kemampuannya untuk mempelajari hubungan yang sangat kompleks antara variabel prediktor dan target. Hal ini memungkinkan jaringan untuk melakukan prediksi dengan tingkat akurasi yang sangat tinggi, bahkan dalam kasus di mana hubungan antar variabel tidak dapat dimodelkan secara langsung menggunakan pendekatan statistik tradisional. Sejumlah studi telah menunjukkan keberhasilan neural networks dalam berbagai bidang, mulai dari keuangan (misalnya untuk prediksi kebangkrutan atau deteksi kecurangan kartu kredit), manajemen hubungan pelanggan (CRM), hingga sistem kendaraan tanpa pengemudi seperti proyek ALVINN.\n",
        "\n"
      ],
      "metadata": {
        "id": "fFfb2q24ax_f"
      }
    },
    {
      "cell_type": "markdown",
      "source": [
        "# **Struktur Jaringan Neural (11.2 Concept and Structure of a Neural Network)**"
      ],
      "metadata": {
        "id": "5X2Jf6-ta3kL"
      }
    },
    {
      "cell_type": "markdown",
      "source": [
        "Jaringan saraf tiruan terdiri dari tiga jenis lapisan utama, yaitu input layer, hidden layer, dan output layer. Input layer bertugas menerima nilai-nilai dari variabel prediktor, sementara hidden layer berfungsi sebagai pengolah informasi utama yang menerapkan bobot dan fungsi aktivasi. Output layer menghasilkan nilai akhir sebagai prediksi dari model.\n",
        "\n",
        "Proses dalam setiap node cukup khas: node menerima input dari node pada lapisan sebelumnya, mengalikan masing-masing input dengan bobot tertentu, lalu menjumlahkan semuanya dan menambahkan nilai bias. Hasil dari proses ini kemudian diproses oleh suatu fungsi aktivasi untuk menghasilkan output. Fungsi aktivasi ini dapat berupa fungsi sigmoid (logistic), ReLU (rectified linear unit), atau fungsi lainnya, tergantung pada tujuan dan desain model. Dengan pendekatan ini, neural networks mampu membentuk fungsi yang sangat fleksibel tanpa perlu pengguna secara eksplisit menentukan bentuk matematis hubungan antar variabel seperti pada regresi linier."
      ],
      "metadata": {
        "id": "ayk0uyyYa-DS"
      }
    },
    {
      "cell_type": "markdown",
      "source": [
        "# **Melatih Jaringan terhadap Data (11.3 Fitting a Network to Data)**"
      ],
      "metadata": {
        "id": "qqxrevmfbCgB"
      }
    },
    {
      "cell_type": "markdown",
      "source": [
        "Proses pelatihan neural network dimulai dengan inisialisasi bobot dan bias secara acak, yang mencerminkan kondisi awal jaringan sebelum belajar. Selanjutnya, data masukan diberikan ke jaringan, dan keluaran dihitung berdasarkan bobot-bobot awal tersebut. Keluaran ini dibandingkan dengan nilai aktual dari data latih, dan selisihnya digunakan untuk memperbarui bobot-bobot jaringan. Proses ini dikenal sebagai backpropagation.\n",
        "\n",
        "Untuk menjelaskan cara kerja ini, buku memberikan contoh sederhana berupa prediksi terhadap preferensi konsumen terhadap keju. Dataset terdiri dari dua variabel prediktor yaitu tingkat lemak (fat) dan kadar garam (salt), dengan target berupa apakah konsumen menyukai (like) atau tidak menyukai (dislike) sampel keju. Meskipun dataset ini sangat kecil dan tidak cukup realistis untuk penggunaan aktual, contoh ini sangat bermanfaat untuk menjelaskan struktur dan alur perhitungan dalam jaringan."
      ],
      "metadata": {
        "id": "S99IgKnSbJBD"
      }
    },
    {
      "cell_type": "code",
      "source": [
        "import pandas as pd\n",
        "from sklearn.model_selection import train_test_split\n",
        "from sklearn.neural_network import MLPClassifier\n",
        "from sklearn.metrics import classification_report\n",
        "\n",
        "# Data preferensi keju\n",
        "data = {\n",
        "    'Fat': [0.2, 0.1, 0.2, 0.2, 0.4, 0.3],\n",
        "    'Salt': [0.9, 0.1, 0.4, 0.5, 0.5, 0.8],\n",
        "    'Acceptance': ['like', 'dislike', 'dislike', 'dislike', 'like', 'like']\n",
        "}\n",
        "df = pd.DataFrame(data)\n",
        "\n",
        "# Ubah label jadi angka\n",
        "df['Acceptance'] = df['Acceptance'].map({'dislike': 0, 'like': 1})\n",
        "\n",
        "# Pisahkan fitur dan target\n",
        "X = df[['Fat', 'Salt']]\n",
        "y = df['Acceptance']\n",
        "\n",
        "# Bagi menjadi data latih dan uji\n",
        "X_train, X_test, y_train, y_test = train_test_split(X, y, test_size=0.33, random_state=42)\n",
        "\n",
        "# Bangun model jaringan saraf\n",
        "model = MLPClassifier(hidden_layer_sizes=(3,), activation='logistic', max_iter=1000, random_state=1)\n",
        "model.fit(X_train, y_train)\n",
        "\n",
        "# Evaluasi hasil\n",
        "y_pred = model.predict(X_test)\n",
        "print(\"Hasil Evaluasi Model:\\n\")\n",
        "print(classification_report(y_test, y_pred))\n"
      ],
      "metadata": {
        "colab": {
          "base_uri": "https://localhost:8080/"
        },
        "id": "KIL9xjnmbTBr",
        "outputId": "6309f606-eb2d-4c3b-f250-db56357c6595"
      },
      "execution_count": null,
      "outputs": [
        {
          "output_type": "stream",
          "name": "stdout",
          "text": [
            "Hasil Evaluasi Model:\n",
            "\n",
            "              precision    recall  f1-score   support\n",
            "\n",
            "           0       0.50      1.00      0.67         1\n",
            "           1       0.00      0.00      0.00         1\n",
            "\n",
            "    accuracy                           0.50         2\n",
            "   macro avg       0.25      0.50      0.33         2\n",
            "weighted avg       0.25      0.50      0.33         2\n",
            "\n"
          ]
        },
        {
          "output_type": "stream",
          "name": "stderr",
          "text": [
            "/usr/local/lib/python3.11/dist-packages/sklearn/metrics/_classification.py:1565: UndefinedMetricWarning: Precision is ill-defined and being set to 0.0 in labels with no predicted samples. Use `zero_division` parameter to control this behavior.\n",
            "  _warn_prf(average, modifier, f\"{metric.capitalize()} is\", len(result))\n",
            "/usr/local/lib/python3.11/dist-packages/sklearn/metrics/_classification.py:1565: UndefinedMetricWarning: Precision is ill-defined and being set to 0.0 in labels with no predicted samples. Use `zero_division` parameter to control this behavior.\n",
            "  _warn_prf(average, modifier, f\"{metric.capitalize()} is\", len(result))\n",
            "/usr/local/lib/python3.11/dist-packages/sklearn/metrics/_classification.py:1565: UndefinedMetricWarning: Precision is ill-defined and being set to 0.0 in labels with no predicted samples. Use `zero_division` parameter to control this behavior.\n",
            "  _warn_prf(average, modifier, f\"{metric.capitalize()} is\", len(result))\n"
          ]
        }
      ]
    },
    {
      "cell_type": "markdown",
      "source": [
        "Dalam jaringan saraf tiruan, setiap node berfungsi untuk menerima input dan menghasilkan output berdasarkan bobot yang diterapkan terhadap input tersebut, ditambah dengan bias, dan kemudian melalui suatu fungsi aktivasi.\n",
        "\n",
        "Untuk lapisan input (input layer), output dari setiap node sama dengan nilai inputnya. Jika terdapat 𝑝 variabel prediktor, maka akan ada 𝑝 node pada input layer. Sebagai contoh, bila terdapat dua variabel yaitu Fat dan Salt, maka input layer akan memiliki dua node dengan nilai masing-masing $x_1 = 0.2$ dan $x_2 = 0.9$ dan nilai output dari lapisan ini adalah sama.\n",
        "\n",
        "Pada lapisan tersembunyi (hidden layer), setiap node menerima input dari semua node pada lapisan sebelumnya. Untuk menghitung output sebuah node pada hidden layer, dilakukan proses sebagai berikut:\n",
        "\n",
        "1. Hitung jumlah tertimbang dari semua input, ditambah dengan bias.\n",
        "\n",
        "2. Terapkan fungsi aktivasi pada hasil tersebut.\n",
        "\n",
        "Secara matematis, untuk input $x_1, x_2, \\dots, x_p$ output dari node ke-\n",
        "𝑗 dihitung dengan rumus:\n",
        "\n",
        "$$\n",
        "\\text{Output}_j = g\\left( \\theta_j + \\sum_{i=1}^{p} w_{ij} x_i \\right)\n",
        "$$\n",
        "\n",
        "Fungsi sigmoid dulunya sangat populer karena kemampuannya menekan nilai ekstrem dan bersifat hampir linear antara 0.1 dan 0.9. Pada jaringan saraf dalam (deep neural networks), fungsi ReLU (Rectified Linear Unit) kini lebih sering digunakan karena efisiensinya. Fungsi ReLU didefinisikan sebagai nilai linear untuk $s > 0$, dan nol untuk $s \\leq 0$.\n",
        "\n",
        "Sebagai contoh, jika menggunakan fungsi sigmoid, maka output dari node 𝑗 pada hidden layer dituliskan sebagai:\n",
        "$$\n",
        "\\text{Output}_j = \\frac{1}{1 + e^{-(\\theta_j + \\sum_{i=1}^{p} w_{ij} x_i)}}\n",
        "$$\n",
        "\n"
      ],
      "metadata": {
        "id": "llx8iUqcboj3"
      }
    },
    {
      "cell_type": "markdown",
      "source": [
        "# **Inisialisasi Bobot dan Bias ( Initializing the Weights and Bias)**\n",
        "\n",
        "Pelatihan jaringan saraf dimulai dengan inisialisasi bobot ($w_{ij}$) dan bias ($\\theta_j$) menggunakan nilai kecil yang acak dan mendekati nol. Nilai-nilai awal ini mencerminkan kondisi awal jaringan yang belum memiliki pengetahuan apa pun, layaknya model tanpa prediktor. Sebagai contoh, pada node N3, digunakan nilai awal $\\theta_3 = -0.3$, $w_{1,3} = 0.05$, dan $w_{2,3} = 0.01$. Nilai-nilai ini digunakan untuk menghitung output awal dari node menggunakan fungsi aktivasi logistik.\n",
        "\n",
        "## Perhitungan Output dan Arsitektur Jaringan\n",
        "\n",
        "Output dari node N3 dihitung dengan fungsi logistik menggunakan input dan bobot yang telah diinisialisasi sebelumnya:\n",
        "\n",
        "$$\n",
        "\\text{Output}_{N3} = \\frac{1}{1 + e^{-(-0.3 + 0.05 \\cdot 0.2 + 0.01 \\cdot 0.9)}} = 0.43\n",
        "$$\n",
        "\n",
        "Arsitektur jaringan terdiri dari dua input (Fat dan Salt), tiga node di hidden layer (N3, N4, N5), dan satu node output (N6). Output dari N6 dihitung dengan menjumlahkan hasil perkalian output dari hidden layer dan bobot menuju node output:\n",
        "\n",
        "$$\n",
        "\\text{Output}_{N6} = \\frac{1}{1 + e^{-(-0.015 + 0.01 \\cdot 0.43 + 0.05 \\cdot 0.51 + 0.015 \\cdot 0.52)}} = 0.506\n",
        "$$\n",
        "\n",
        "Nilai ini disebut *propensity* atau probabilitas bahwa output termasuk ke dalam kelas *like*. Jika nilainya melebihi ambang batas 0.5, maka data tersebut diklasifikasikan sebagai *like*.\n",
        "\n",
        "# **Hubungan dengan Regresi ( Relation to Linear and Logistic Regression)**\n",
        "\n",
        "Jaringan saraf tanpa hidden layer dapat dianalogikan dengan regresi linear atau regresi logistik, tergantung pada fungsi aktivasi yang digunakan. Jika fungsi aktivasi adalah identitas, maka jaringan tersebut setara dengan regresi linear biasa:\n",
        "\n",
        "$$\n",
        "\\hat{Y} = \\theta + \\sum_{i=1}^{p} w_i x_i\n",
        "$$\n",
        "\n",
        "Namun, jika fungsi aktivasi adalah fungsi logistik, maka bentuknya setara dengan regresi logistik:\n",
        "\n",
        "$$\n",
        "\\hat{P}(Y = 1) = \\frac{1}{1 + e^{-(\\theta + \\sum_{i=1}^{p} w_i x_i)}}\n",
        "$$\n",
        "\n",
        "Meskipun bentuk matematisnya serupa, metode estimasi parameter pada neural network berbeda karena tidak menggunakan pendekatan least squares atau maximum likelihood, melainkan estimasi berdasarkan kesalahan prediksi (*error-based learning*) melalui proses iteratif.\n",
        "\n",
        "# **Pra-pemrosesan Data (Preprocessing the Data)**\n",
        "\n",
        "Agar jaringan saraf bekerja optimal, terutama saat menggunakan fungsi aktivasi logistik, data perlu dinormalisasi ke skala $[0, 1]$. Proses normalisasi dilakukan dengan rumus:\n",
        "\n",
        "$$\n",
        "X_{\\text{norm}} = \\frac{X - a}{b - a}\n",
        "$$\n",
        "\n",
        "Untuk variabel biner, cukup direpresentasikan dengan 0 dan 1. Untuk variabel kategorik ordinal, dapat digunakan skala fraksional. Sedangkan untuk kategorik nominal, perlu dikonversi menjadi dummy variable. Transformasi logaritmik disarankan bagi variabel dengan distribusi sangat miring (skewed), seperti penghasilan. Jika menggunakan fungsi aktivasi *tanh*, skala yang lebih tepat untuk input adalah $[-1, 1]$.\n",
        "\n",
        "# **Pelatihan Model dan Backpropagation (Training the Model and Back Propagation of Error)**\n",
        "\n",
        "Pelatihan model bertujuan untuk meminimalkan kesalahan prediksi dengan memperbarui bobot dan bias. Setiap data diproses dengan menghitung output, membandingkannya dengan nilai aktual, dan menghitung selisihnya (error). Proses *backpropagation* digunakan untuk menyebarkan error dari output layer ke hidden layer.\n",
        "\n",
        "Error pada node output $k$ dihitung dengan rumus:\n",
        "\n",
        "$$\n",
        "\\text{err}_k = \\hat{y}_k (1 - \\hat{y}_k)(y_k - \\hat{y}_k)\n",
        "$$\n",
        "\n",
        "Pembaruan parameter dilakukan dengan rumus:\n",
        "\n",
        "$$\n",
        "\\theta_j^{\\text{new}} = \\theta_j^{\\text{old}} + \\lambda \\cdot \\text{err}_j\n",
        "$$\n",
        "\n",
        "$$\n",
        "w_{ij}^{\\text{new}} = w_{ij}^{\\text{old}} + \\lambda \\cdot x_i \\cdot \\text{err}_j\n",
        "$$\n",
        "\n",
        "di mana $\\lambda$ adalah learning rate.\n",
        "\n",
        "## Contoh Pembaruan dan Hasil Akhir\n",
        "\n",
        "Sebagai contoh, jika error pada node output N6 sebesar 0.123 dan learning rate yang digunakan adalah 0.5, maka parameter diperbarui sebagai berikut:\n",
        "\n",
        "$$\n",
        "\\theta_6 = -0.015 + 0.5 \\cdot 0.123 = 0.047\n",
        "$$\n",
        "\n",
        "$$\n",
        "w_{3,6} = 0.01 + 0.5 \\cdot 0.123 = 0.072\n",
        "$$\n",
        "\n",
        "dan seterusnya untuk bobot lain.\n",
        "\n",
        "Metode *case updating* memperbarui parameter setelah setiap data diproses. Sebaliknya, *batch updating* memperbarui parameter setelah semua data selesai diproses dalam satu epoch. Pelatihan dihentikan jika bobot dan bias tidak berubah signifikan, error klasifikasi memadai, atau jumlah iterasi maksimum tercapai.\n",
        "\n",
        "Gambar akhir menunjukkan hasil dari pelatihan menggunakan `MLPClassifier` dari scikit-learn, dengan bobot dan bias yang telah diperbarui secara signifikan dari nilai awal.\n"
      ],
      "metadata": {
        "id": "yp7Sp6vkKe5k"
      }
    },
    {
      "cell_type": "markdown",
      "source": [
        "**Tabel 11.2** Jaringan Syaraf Dengan Satu Lapisan Tersembunyi (Tiga Node) Untuk Contoh Data Kecil"
      ],
      "metadata": {
        "id": "W7yzv6ccohu6"
      }
    },
    {
      "cell_type": "code",
      "source": [
        "import pandas as pd\n",
        "from sklearn.neural_network import MLPClassifier\n",
        "\n",
        "# Data sesuai yang diberikan\n",
        "data = {\n",
        "    \"Obs\": [1, 2, 3, 4, 5, 6],\n",
        "    \"Fat score\": [0.2, 0.1, 0.2, 0.2, 0.4, 0.3],\n",
        "    \"Salt score\": [0.9, 0.1, 0.4, 0.5, 0.5, 0.8],\n",
        "    \"Acceptance\": [\"like\", \"dislike\", \"dislike\", \"dislike\", \"like\", \"like\"]\n",
        "}\n",
        "\n",
        "# Buat DataFrame\n",
        "df = pd.DataFrame(data)\n",
        "\n",
        "# Tentukan prediktor dan target\n",
        "predictors = ['Fat score', 'Salt score']\n",
        "outcome = 'Acceptance'\n",
        "X = df[predictors]\n",
        "y = df[outcome]\n",
        "classes = sorted(y.unique())\n",
        "\n",
        "# Model Jaringan Syaraf Tiruan\n",
        "clf = MLPClassifier(hidden_layer_sizes=(3,), activation='logistic', solver='lbfgs', random_state=1)\n",
        "clf.fit(X, y)\n",
        "\n",
        "# Cetak struktur jaringan\n",
        "print(\"Intercepts\")\n",
        "print(clf.intercepts_)\n",
        "print(\"Weights\")\n",
        "print(clf.coefs_)\n",
        "\n",
        "# Prediksi probabilitas\n",
        "proba = clf.predict_proba(X)\n",
        "\n",
        "# Gabungkan hasil prediksi ke DataFrame\n",
        "result = pd.concat([df, pd.DataFrame(proba, columns=clf.classes_)], axis=1)\n",
        "print(result)"
      ],
      "metadata": {
        "colab": {
          "base_uri": "https://localhost:8080/"
        },
        "id": "BJkQczrdoyO9",
        "outputId": "70b3ccf3-4aab-4ec6-de01-60bffc6c1202"
      },
      "execution_count": null,
      "outputs": [
        {
          "output_type": "stream",
          "name": "stdout",
          "text": [
            "Intercepts\n",
            "[array([0.13368042, 4.07247548, 7.00768105]), array([14.3074867])]\n",
            "Weights\n",
            "[array([[ -1.3065648 ,  -4.20427797, -13.29587331],\n",
            "       [ -0.0439973 ,  -4.91606921,  -6.03356987]]), array([[ -0.27348314],\n",
            "       [ -9.01211576],\n",
            "       [-17.63504684]])]\n",
            "   Obs  Fat score  Salt score Acceptance   dislike      like\n",
            "0    1        0.2         0.9       like  0.000490  0.999510\n",
            "1    2        0.1         0.1    dislike  0.999994  0.000006\n",
            "2    3        0.2         0.4    dislike  0.999741  0.000259\n",
            "3    4        0.2         0.5    dislike  0.997368  0.002632\n",
            "4    5        0.4         0.5       like  0.002133  0.997867\n",
            "5    6        0.3         0.8       like  0.000075  0.999925\n"
          ]
        }
      ]
    },
    {
      "cell_type": "markdown",
      "source": [
        "Bagian awal output menunjukkan parameter estimasi yang menghubungkan lapisan input ke lapisan tersembunyi, lalu ke lapisan output. Intercept merupakan bias tiap node (𝜃₃ hingga 𝜃₆), sedangkan weights digunakan untuk menghitung output node tersembunyi. Nilai-nilai ini diperoleh secara iteratif dari inisialisasi acak (**Gambar 11.3**). Sebagai contoh, output node N3 untuk observasi pertama dihitung sebagai berikut:\n",
        "$$\n",
        "\\text{Output}_{N3} = \\frac{1}{1 + e^{-(0.134 + (-1.306)(0.2) + (-0.044)(0.9))}} = 0.458\n",
        "$$\n",
        "Output dari dua node tersembunyi lainnya untuk observasi pertama adalah OutputN4=0,233 dan OutputN5=0,253. Selanjutnya, bobot dan bias yang baru digunakan untuk menghitung probabilitas output *like* (node N6) berdasarkan ketiga output dari node tersembunyi tersebut, dengan rumus sebagai berikut:\n",
        "$$\n",
        "\\text{Output}_{N6} = \\frac{1}{1 + e^{-[14.307 + (-0.273)(0.458) + (-9.012)(0.233) + (-17.635)(0.253)]}} = 1.00\n",
        "$$\n",
        "(Lebih akuratnya, dengan menggunakan semua desimal yang ditunjukkan pada **Tabel 11.2** akan mengarah ke Output N6=0.9995).\n",
        "Probabilitas untuk lima observasi lainnya dihitung dengan cara serupa, lalu diklasifikasikan menggunakan ambang batas 0,5. Hasilnya, seluruh observasi berhasil diklasifikasikan dengan benar, seperti ditunjukkan dalam **Tabel 11.2** dan matriks konfusi pada **Tabel 11.3**.\n",
        "\n",
        "**Tabel 11.3** Matriks Konfusi Untuk Contoh Kecil"
      ],
      "metadata": {
        "id": "dbvTEm0Toy4t"
      }
    },
    {
      "cell_type": "code",
      "source": [
        "import pandas as pd\n",
        "from sklearn.neural_network import MLPClassifier\n",
        "from sklearn.metrics import confusion_matrix, accuracy_score\n",
        "\n",
        "# Data input\n",
        "data = {\n",
        "    \"Obs\": [1, 2, 3, 4, 5, 6],\n",
        "    \"Fat score\": [0.2, 0.1, 0.2, 0.2, 0.4, 0.3],\n",
        "    \"Salt score\": [0.9, 0.1, 0.4, 0.5, 0.5, 0.8],\n",
        "    \"Acceptance\": [\"like\", \"dislike\", \"dislike\", \"dislike\", \"like\", \"like\"]\n",
        "}\n",
        "\n",
        "# DataFrame\n",
        "df = pd.DataFrame(data)\n",
        "\n",
        "# Definisi prediktor dan target\n",
        "X = df[['Fat score', 'Salt score']]\n",
        "y = df['Acceptance']\n",
        "classes = sorted(y.unique())\n",
        "\n",
        "# Model MLP\n",
        "clf = MLPClassifier(hidden_layer_sizes=(3,), activation='logistic', solver='lbfgs', random_state=1)\n",
        "clf.fit(X, y)\n",
        "\n",
        "# Prediksi\n",
        "y_pred = clf.predict(X)\n",
        "\n",
        "# Confusion Matrix\n",
        "conf_matrix = confusion_matrix(y, y_pred, labels=classes)\n",
        "accuracy = accuracy_score(y, y_pred)\n",
        "\n",
        "# Tampilkan hasil seperti di gambar\n",
        "print(\"Confusion Matrix (Accuracy {:.4f})\".format(accuracy))\n",
        "print(\"\\nPrediction\")\n",
        "print(\"         dislike like\")\n",
        "for i, label in enumerate(classes):\n",
        "    row = ' '.join(f\"{val:7d}\" for val in conf_matrix[i])\n",
        "    print(f\"Actual {label:<8s} {row}\")\n"
      ],
      "metadata": {
        "colab": {
          "base_uri": "https://localhost:8080/"
        },
        "id": "Eg_7X_BtsqOh",
        "outputId": "9b5fb98d-4f93-466c-8387-b729f7c05239"
      },
      "execution_count": null,
      "outputs": [
        {
          "output_type": "stream",
          "name": "stdout",
          "text": [
            "Confusion Matrix (Accuracy 1.0000)\n",
            "\n",
            "Prediction\n",
            "         dislike like\n",
            "Actual dislike        3       0\n",
            "Actual like           0       3\n"
          ]
        }
      ]
    },
    {
      "cell_type": "markdown",
      "source": [
        "**Contoh 2 : Klasifikasi Tingkat Keparahan Kecelakaan**\n",
        "\n",
        "Contoh ini menunjukkan penerapan pelatihan jaringan pada data kecelakaan mobil di AS untuk mengklasifikasikan tingkat keparahan (tidak ada cedera, cedera, atau fatal). Tujuannya adalah membantu sistem penanganan darurat menentukan prioritas berdasarkan laporan awal.\n",
        "\n",
        "Penelitian ini menjelaskan empat variabel prediktor dan satu variabel outcome untuk data kecelakaan mobil. Variabel ALCHL_I dikonversi menjadi dummy 0/1 (ada atau tidak ada alkohol), sedangkan SUR_COND dipecah menjadi empat dummy (kering, basah, salju/lumpur, es). Total terdapat tujuh variabel prediktor, termasuk PROFIL_I_R (profil jalan), VEH_INVL (jumlah kendaraan), dan MAX_SEV_IR (keparahan cedera).\n",
        "\n",
        "Analisis ini bertujuan memprediksi tingkat keparahan kecelakaan dari laporan awal guna membantu alokasi sumber daya bagi petugas pertama. Model jaringan saraf digunakan dengan 7 node input, 3 neuron output, dan 1 lapisan tersembunyi dengan 2 node, yang memberikan keseimbangan ideal antara akurasi pelatihan dan validasi. Hasil menunjukkan klasifikasi kelas 0 dan 1 baik, tetapi kelas 2 masih sulit diklasifikasi dengan akurat.\n"
      ],
      "metadata": {
        "id": "WK9wqGuetYC2"
      }
    },
    {
      "cell_type": "markdown",
      "source": [
        "**Tabel 11.6** Jaringan Syaraf Dengan Dua Node di Lapisan Tersembunyi(Data Kecelakaan)"
      ],
      "metadata": {
        "id": "lXrcHIxj6bHH"
      }
    },
    {
      "cell_type": "code",
      "source": [
        "import pandas as pd\n",
        "from sklearn.model_selection import train_test_split\n",
        "from sklearn.neural_network import MLPClassifier\n",
        "from sklearn.preprocessing import StandardScaler\n",
        "from sklearn.metrics import confusion_matrix, accuracy_score\n",
        "\n",
        "# Data input dari gambar\n",
        "data = {\n",
        "    \"ALCHL_I\": [1, 2, 2, 1, 2, 2, 2, 2, 2, 2],\n",
        "    \"PROFIL_I_R\": [1, 1, 1, 1, 1, 0, 0, 0, 0, 0],\n",
        "    \"SUR_COND\": [1]*10,\n",
        "    \"VEH_INVL\": [1, 1, 1, 1, 1, 1, 3, 4, 2, 2],\n",
        "    \"MAX_SEV_IR\": [1, 0, 1, 0, 2, 1, 1, 1, 0, 0]\n",
        "}\n",
        "df = pd.DataFrame(data)\n",
        "\n",
        "# Definisikan prediktor dan target\n",
        "X = df.drop(columns=['MAX_SEV_IR'])\n",
        "y = df['MAX_SEV_IR']\n",
        "\n",
        "# Bagi data menjadi training dan validation\n",
        "train_X, valid_X, train_y, valid_y = train_test_split(X, y, test_size=0.4, random_state=1)\n",
        "\n",
        "# Skala fitur agar lebih stabil\n",
        "scaler = StandardScaler()\n",
        "train_X_scaled = scaler.fit_transform(train_X)\n",
        "valid_X_scaled = scaler.transform(valid_X)\n",
        "\n",
        "# Definisikan dan latih model\n",
        "clf = MLPClassifier(hidden_layer_sizes=(2,), activation='logistic', solver='lbfgs', max_iter=1000, random_state=1)\n",
        "clf.fit(train_X_scaled, train_y)\n",
        "\n",
        "# Fungsi untuk menampilkan confusion matrix dan akurasi\n",
        "def classificationSummary(y_true, y_pred):\n",
        "    cm = confusion_matrix(y_true, y_pred)\n",
        "    acc = accuracy_score(y_true, y_pred)\n",
        "    print(f\"Confusion Matrix (Accuracy {acc:.4f})\")\n",
        "    print(\"\\nPrediction\")\n",
        "    print(\"         0    1    2\")\n",
        "    for i, row in enumerate(cm):\n",
        "        row_str = ' '.join(f\"{val:4d}\" for val in row)\n",
        "        print(f\"Actual {i:<2} {row_str}\")\n",
        "\n",
        "# Evaluasi model\n",
        "print(\"Training set\")\n",
        "classificationSummary(train_y, clf.predict(train_X_scaled))\n",
        "\n",
        "print(\"\\nValidation set\")\n",
        "classificationSummary(valid_y, clf.predict(valid_X_scaled))"
      ],
      "metadata": {
        "colab": {
          "base_uri": "https://localhost:8080/"
        },
        "id": "1kZG-bI_u632",
        "outputId": "a73e9c89-b303-4656-8287-a1a271571d63"
      },
      "execution_count": null,
      "outputs": [
        {
          "output_type": "stream",
          "name": "stdout",
          "text": [
            "Training set\n",
            "Confusion Matrix (Accuracy 0.5000)\n",
            "\n",
            "Prediction\n",
            "         0    1    2\n",
            "Actual 0     2    1\n",
            "Actual 1     2    1\n",
            "\n",
            "Validation set\n",
            "Confusion Matrix (Accuracy 0.2500)\n",
            "\n",
            "Prediction\n",
            "         0    1    2\n",
            "Actual 0     0    1    0\n",
            "Actual 1     1    1    0\n",
            "Actual 2     1    0    0\n"
          ]
        }
      ]
    },
    {
      "cell_type": "markdown",
      "source": [
        "Hasil yang kami peroleh dapat bergantung pada cara kami mengatur parameter yang berbeda, dan ada beberapa perangkap yang harus dihindari."
      ],
      "metadata": {
        "id": "RnxpmIwU7LKn"
      }
    },
    {
      "cell_type": "markdown",
      "source": [
        "# **Menghindari Overfitting (Avoiding Overfitting)**\n",
        "\n",
        "Salah satu kelemahan dari jaringan saraf adalah mudah mengalami *overfitting* terhadap data, yang menyebabkan tingkat kesalahan pada data validasi (dan yang paling penting, pada data baru) menjadi terlalu besar. Oleh karena itu, penting untuk membatasi jumlah iterasi pelatihan dan tidak terlalu banyak melatih model (misalnya, pada metode `MLPClassifier()` di Python, kamu bisa mengatur jumlah iterasi menggunakan argumen `max_iter`). Seperti pada pohon klasifikasi dan regresi, overfitting bisa dideteksi dengan memantau kinerja pada data validasi atau, lebih baik lagi, menggunakan *cross-validation*, dan melihat kapan performa mulai menurun meskipun performa pada data pelatihan masih meningkat. Titik minimum dari kesalahan validasi biasanya menjadi indikator yang baik untuk jumlah iterasi optimal, dan bobot (*weights*) pada tahap tersebut kemungkinan besar memberikan hasil terbaik pada data baru.\n",
        "\n",
        "\n",
        "# **Penggunaan Output untuk Prediksi dan Klasifikasi (Using the Output for Prediction and Classification)**\n",
        "\n",
        "* Jika jaringan saraf digunakan untuk memprediksi variabel hasil numerik, maka `MLPRegressor()` memakai fungsi aktivasi identitas (alias tanpa aktivasi). Variabel prediktor dan hasil sebaiknya diskalakan ke rentang \\[0, 1] sebelum pelatihan. Output juga akan berada dalam skala \\[0, 1], dan untuk mengembalikannya ke skala asli \\[a, b], kalikan hasil prediksi dengan (b − a) lalu tambahkan a.\n",
        "* Untuk hasil biner (misalnya `m = 2`), `MLPClassifier()` menggunakan satu node output untuk menghasilkan nilai P(Y = 1). Metode `predict_proba()` akan memberikan probabilitas untuk kedua kelas. Meskipun ambang batas 0.5 lazim digunakan, dalam jaringan saraf nilai sering mengelompok di sekitar 0.5. Sebaiknya gunakan data validasi untuk menentukan ambang prediksi yang optimal.\n",
        "* Untuk klasifikasi dengan jumlah kelas lebih dari dua (m > 2), umumnya digunakan m node output—satu untuk tiap kelas. Kelas dengan nilai tertinggi dari node output biasanya dipilih sebagai hasil klasifikasi.\n",
        "* `MLPClassifier` juga bisa digunakan untuk klasifikasi multi-kelas yang *tidak saling eksklusif* (misalnya variabel “Ras” yang memungkinkan seseorang termasuk dalam lebih dari satu kategori).\n",
        "\n",
        "\n",
        "\n",
        "\n"
      ],
      "metadata": {
        "id": "twudLtTxdLKD"
      }
    },
    {
      "cell_type": "markdown",
      "source": [
        "# **Input yang Dibutuhkan Pengguna (11.4 Required User Input)**"
      ],
      "metadata": {
        "id": "9zBc6VQJpC5R"
      }
    },
    {
      "cell_type": "markdown",
      "source": [
        "Salah satu bagian yang kompleks dan memakan waktu dalam pelatihan jaringan saraf dengan *backpropagation* adalah menentukan arsitektur jaringan: jumlah lapisan tersembunyi (*hidden layers*) dan jumlah node pada tiap lapisan.\n",
        "\n",
        "* **Jumlah Hidden Layer:** Umumnya satu lapisan tersembunyi sudah cukup untuk memodelkan hubungan kompleks antar prediktor.\n",
        "* **Ukuran Hidden Layer:** Jumlah node mempengaruhi kompleksitas jaringan. Terlalu sedikit node → underfitting; terlalu banyak → overfitting. Aturan praktis: mulai dengan jumlah node = jumlah prediktor (p), lalu sesuaikan sambil mengevaluasi overfitting.\n",
        "* **Jumlah Node Output:** Untuk hasil kategorikal dengan m kelas, gunakan m atau m − 1 node output. Untuk hasil numerik, biasanya satu node cukup.\n",
        "\n",
        "Selain arsitektur, pemilihan prediktor juga krusial. Gunakan pengetahuan domain, seleksi variabel, dan teknik reduksi dimensi.\n",
        "\n",
        "* **Learning Rate (laju pembelajaran):** Parameter penting untuk menghindari overfitting. Nilainya biasanya antara \\[0, 1]. Berry & Linoff menyarankan mulai dengan nilai besar dan mengecilkannya seiring iterasi. Han & Kamber menyarankan rumus: `l = 1 / (jumlah iterasi saat ini)`.\n",
        "\n"
      ],
      "metadata": {
        "id": "ZFzhrqHIpArJ"
      }
    },
    {
      "cell_type": "markdown",
      "source": [
        "# **Menjelajahi Hubungan Prediktor dan Output (11.5 Exploring the Relationship Between Predictors and Outcome)**"
      ],
      "metadata": {
        "id": "Gr8H4euipPU0"
      }
    },
    {
      "cell_type": "markdown",
      "source": [
        "Jaringan saraf sering disebut sebagai *black box* karena output-nya tidak menjelaskan pola data secara eksplisit. Namun, kita bisa melakukan *sensitivity analysis*:\n",
        "\n",
        "1. Tetapkan semua nilai prediktor ke rata-rata,\n",
        "2. Catat prediksi,\n",
        "3. Ulangi dengan mengubah satu per satu prediktor ke nilai minimum dan maksimum,\n",
        "4. Bandingkan perubahan output untuk memahami pengaruh tiap prediktor.\n",
        "\n"
      ],
      "metadata": {
        "id": "JvRYdsUNpUom"
      }
    },
    {
      "cell_type": "markdown",
      "source": [
        "# **Pembelajaran Mendalam (11.6 Deep Learning)**\n"
      ],
      "metadata": {
        "id": "NsTf7Q-xpVH4"
      }
    },
    {
      "cell_type": "markdown",
      "source": [
        "Sejak 2006, jaringan saraf berkembang pesat berkat karya Geoffrey Hinton dan popularitas *deep learning*. Deep learning mencakup jaringan kompleks dengan banyak lapisan dan mampu melakukan reduksi dimensi dan menemukan fitur baru.\n",
        "\n",
        "* Data sebelumnya dalam buku ini adalah data terstruktur (misalnya, rasio keuangan).\n",
        "* Pada tugas seperti pengenalan suara dan gambar, kita hanya punya data mentah (frekuensi gelombang suara, nilai piksel), bukan fitur tingkat tinggi (seperti “mata” atau “pupil”).\n",
        "\n",
        "Dengan *deep learning*, model bisa belajar menemukan fitur kompleks dari data mentah secara otomatis."
      ],
      "metadata": {
        "id": "64YEYa4kpnJi"
      }
    },
    {
      "cell_type": "markdown",
      "source": [
        "# **Jaringan Syaraf Tiruan (CNN) (Convolutional Neural Networks (CNNs))**\n",
        "\n",
        "Berbeda dari jaringan saraf standar, CNN menggunakan *convolution*:\n",
        "\n",
        "* Bukan memberi bobot terpisah untuk tiap fitur, CNN menerapkan filter ke area kecil (misalnya 3x3 piksel) secara berulang di seluruh gambar.\n",
        "* Contohnya, mendeteksi garis vertikal: filter yang dirancang khusus akan menghasilkan nilai tinggi saat piksel sejajar dengan pola tersebut.\n",
        "* Nilai hasil convolution bisa digunakan sebagai indikator keberadaan fitur sederhana seperti garis, yang nantinya membantu mendeteksi fitur kompleks seperti mata atau telinga."
      ],
      "metadata": {
        "id": "Fs4hOXqZpwsk"
      }
    },
    {
      "cell_type": "markdown",
      "source": [
        "# **Peta Fitur Lokal (Local Feature Map)**\n",
        "\n",
        "Ketika filter seperti \"pendeteksi garis vertikal\" digerakkan melintasi gambar, ia menghitung ulang nilai-nilai di setiap bagian kecil dari gambar tersebut dan menghasilkan keluaran baru. Hasil akhirnya berupa matriks yang lebih kecil dari gambar asli, tergantung seberapa jauh langkah pergerakan filter (misalnya 1 piksel, 2 piksel, dst). Sementara gambar asli berisi nilai piksel, matriks baru ini menunjukkan apakah ada fitur tertentu (seperti garis vertikal) pada bagian tersebut. Karena ukuran filter kecil, fitur yang terdeteksi bersifat lokal. Filter lain juga dapat dirancang untuk mendeteksi garis horizontal, diagonal, lengkungan, batas, dan sebagainya. Lapisan-lapisan lanjutan dari operasi konvolusi dapat membangun fitur-fitur yang lebih kompleks seperti sudut, persegi panjang, atau lingkaran.\n",
        "\n",
        "#**Hirarki Fitur (A Hierarchy of Features)**\n",
        "\n",
        "Matriks hasil pertama mungkin menunjukkan garis vertikal, dan proses serupa bisa dilakukan untuk mendeteksi fitur lain seperti garis horizontal atau batas terang-gelap. Setelah itu, fitur-fitur awal ini digunakan kembali dalam lapisan berikutnya untuk membangun fitur yang lebih kompleks. Proses ini berlangsung secara berulang dan menghasilkan representasi berbentuk tensor (matriks multidimensi) dari fitur-fitur tingkat tinggi. Semakin dalam prosesnya, representasi fitur menjadi semakin abstrak. Maka, tidak selalu mudah untuk mengidentifikasi secara langsung, misalnya, \"ini adalah bagian mata\" dari matriks tersebut. Seiring waktu, informasi yang dibawa semakin terkompresi (disederhanakan) dan mengarah pada fitur-fitur yang lebih bermakna.\n",
        "\n",
        "# **Proses Pembelajaran (The Learning Process)**\n",
        "\n",
        "Bagaimana jaringan tahu operasi konvolusi mana yang harus dilakukan? Secara sederhana, jaringan menyimpan operasi-operasi yang terbukti membantu dalam melakukan klasifikasi dengan baik. Dalam neural network biasa, bobot-bobot yang disesuaikan selama proses pembelajaran. Dalam jaringan konvolusional (CNN), yang dipelajari adalah filter-filter konvolusinya juga. Dalam pembelajaran terawasi, jaringan akan terus membangun fitur-fitur hingga mencapai tingkat tertinggi sesuai tujuan. Misalnya, jika tujuannya adalah mengklasifikasikan gambar apakah mengandung wajah atau tidak, jaringan akan belajar mendeteksi pola-pola seperti tepi → lingkaran → mata, yang berguna untuk klasifikasi. Fitur-fitur lain yang tidak membantu, seperti tepi → persegi panjang → rumah, akan diabaikan.\n",
        "\n",
        "Terkadang, satu neuron saja dapat berfungsi sebagai pengklasifikasi yang baik, menandakan bahwa neuron tersebut telah \"mewakili\" fitur penting yang dicari.\n",
        "\n",
        "# **Pembelajaran Tak Terawasi (Unsupervised Learning)**\n",
        "\n",
        "Salah satu kehebatan deep learning adalah kemampuannya mendeteksi objek tanpa data berlabel, atau yang disebut pembelajaran tak terawasi. Contohnya adalah pengenalan wajah, anjing, atau kucing tanpa diberi tahu label sebelumnya. Salah satu metode yang digunakan adalah autoencoder. Autoencoder dilatih untuk merekonstruksi input yang sama persis, dengan terlebih dahulu membuat representasi berdimensi rendah dari data, lalu menggunakannya untuk membentuk kembali data aslinya.\n",
        "\n",
        "Dalam konteks gambar, autoencoder terdiri dari dua bagian: bagian pertama menyederhanakan gambar ke bentuk ringkas (representasi internal), dan bagian kedua membentuk ulang gambar dari representasi tersebut. Jaringan akan terus belajar sampai mampu menghasilkan gambar yang hampir sama dengan input aslinya. Bila sudah berhasil, pelatihan dihentikan.\n",
        "\n",
        "Representasi internal ini (yang disebut sebagai bottleneck) menyimpan informasi penting dari gambar. Fitur-fitur ini bisa dianggap sebagai versi sederhana dari data asli, mirip seperti prinsip dalam PCA (Principal Component Analysis). Representasi ini bisa dipakai lagi untuk model prediksi terawasi atau untuk clustering tanpa label.\n",
        "\n",
        "# **Kesimpulan (Conclusion)**\n",
        "Keunggulan utama dari jaringan konvolusional adalah kemampuannya untuk membangun representasi fitur kompleks melalui proses berulang. Hasil akhirnya adalah representasi berdimensi lebih rendah dari data yang tetap menyimpan informasi penting. Setiap arsitektur konvolusi (misalnya jenis filter yang digunakan) bisa disesuaikan dengan kebutuhan tugas tertentu. Komunitas AI juga menyediakan berbagai model pra-latih dan dataset yang bisa digunakan untuk mempercepat proses pelatihan model baru.\n",
        "\n",
        "Selain CNN, ada jenis jaringan lain seperti Recurrent Neural Network (RNN) yang cocok untuk data berurutan seperti teks, musik, ucapan, atau perilaku pengguna. RNN sering menggunakan komponen seperti LSTM atau GRU yang dapat menyimpan informasi urutan data.\n",
        "\n",
        "Pemilihan metode tergantung pada kinerja relatif terhadap metode lain serta kebutuhan sumber daya seperti data dan komputasi.\n",
        "\n",
        "# **Perangkat Lunak (Software Libraries)**\n",
        "\n",
        "\n",
        "Karena kompleksitas arsitektur jaringan syaraf, kini tersedia berbagai pustaka perangkat lunak seperti TensorFlow, Keras, dan PyTorch yang memungkinkan pengguna membangun berbagai jenis model neural network dengan mudah. TensorFlow, misalnya, menyediakan demo visual untuk memahami prinsip dasar jaringan syaraf.\n"
      ],
      "metadata": {
        "id": "atp3GUFCk_z-"
      }
    },
    {
      "cell_type": "markdown",
      "source": [
        "# **Keuntungan dan Kekurangan Neural Network (11.7 Advantage and Weakness of Neural Network)**"
      ],
      "metadata": {
        "id": "tJalaWcolIa2"
      }
    },
    {
      "cell_type": "markdown",
      "source": [
        "Kelebihan utama neural network adalah kemampuannya dalam membuat prediksi yang akurat, bahkan dalam data yang bising dan kompleks. Namun, kelemahannya adalah kurang transparan – kita sulit memahami bagaimana jaringan membuat keputusan, sehingga disebut \"kotak hitam.\"\n",
        "\n",
        "Beberapa hal yang perlu diperhatikan:\n",
        "\n",
        "1. **Ekstrapolasi berbahaya**: Jaringan belajar dari data pelatihan. Jika data baru berada di luar jangkauan itu, hasil prediksinya bisa salah besar.\n",
        "2. **Tidak otomatis memilih variabel**: Tidak ada mekanisme internal untuk memilih prediktor penting. Oleh karena itu, sering perlu dikombinasikan dengan metode lain seperti pohon keputusan atau PCA.\n",
        "3. **Butuh banyak data**: Agar jaringan dapat belajar dengan baik, jumlah data pelatihan harus cukup besar, terutama untuk kelas minoritas dalam masalah klasifikasi.\n",
        "4. **Waktu komputasi**: Jaringan syaraf memerlukan waktu yang relatif lama untuk pelatihan dan prediksi, terutama jika jumlah prediktor tinggi. Dalam aplikasi real-time, ini bisa menjadi kendala.\n"
      ],
      "metadata": {
        "id": "FZH7MEPVlRzp"
      }
    },
    {
      "cell_type": "markdown",
      "source": [
        "# Studi Kasus Virgiawan Malik Rizky"
      ],
      "metadata": {
        "id": "-xtTlit1v7es"
      }
    },
    {
      "cell_type": "markdown",
      "source": [
        "Studi kasus ini berasal dari Universal Bank, sebuah institusi keuangan fiktif yang ingin meningkatkan efektivitas pemasaran produk pinjaman pribadi (personal loan). Meskipun produk ini relatif baru, bank telah mengumpulkan data dari 5.000 nasabah yang mencakup informasi demografis dan finansial seperti usia, pendapatan, status pendidikan, pengalaman kerja, kepemilikan akun, dan penggunaan layanan digital. Berdasarkan data ini, bank ingin memprediksi kemungkinan seorang nasabah akan mengambil pinjaman pribadi atau tidak. Dengan membangun model klasifikasi menggunakan metode neural network, bank berharap dapat mengidentifikasi karakteristik nasabah yang berpotensi tinggi untuk mengambil pinjaman. Tujuan akhirnya adalah untuk mengoptimalkan strategi pemasaran, meningkatkan tingkat konversi, dan mengurangi biaya promosi yang tidak tepat sasaran."
      ],
      "metadata": {
        "id": "GuLGeGyhwNYD"
      }
    },
    {
      "cell_type": "code",
      "source": [
        "from google.colab import drive\n",
        "drive.mount('/content/drive')"
      ],
      "metadata": {
        "id": "LHc2Rw3yawbY"
      },
      "execution_count": null,
      "outputs": []
    },
    {
      "cell_type": "code",
      "source": [
        "import pandas as pd\n",
        "from sklearn.model_selection import train_test_split\n",
        "from sklearn.preprocessing import StandardScaler\n",
        "from keras.models import Sequential\n",
        "from keras.layers import Dense\n",
        "from sklearn.metrics import confusion_matrix, classification_report\n",
        "\n",
        "# Load dataset\n",
        "df = pd.read_csv('/content/UniversalBank.csv')\n",
        "\n",
        "# Drop identifier columns\n",
        "df = df.drop(columns=['ID', 'ZIP Code'])\n",
        "\n",
        "# Define target and predictors\n",
        "# Benar\n",
        "X = df.drop(columns=['PersonalLoan'])\n",
        "y = df['PersonalLoan']\n",
        "\n",
        "# Split data\n",
        "X_train, X_test, y_train, y_test = train_test_split(X, y, test_size=0.3, random_state=1)\n",
        "\n",
        "# Feature scaling\n",
        "scaler = StandardScaler()\n",
        "X_train_scaled = scaler.fit_transform(X_train)\n",
        "X_test_scaled = scaler.transform(X_test)\n",
        "\n",
        "# Neural Network\n",
        "model = Sequential()\n",
        "model.add(Dense(10, input_dim=X_train_scaled.shape[1], activation='relu'))  # Hidden layer\n",
        "model.add(Dense(1, activation='sigmoid'))  # Output layer (binary classification)\n",
        "\n",
        "# Compile model\n",
        "model.compile(loss='binary_crossentropy', optimizer='adam', metrics=['accuracy'])\n",
        "\n",
        "# Fit model\n",
        "model.fit(X_train_scaled, y_train, epochs=50, batch_size=10, verbose=1)\n",
        "\n",
        "# Evaluate on test data\n",
        "loss, accuracy = model.evaluate(X_test_scaled, y_test)\n",
        "print(f\"Akurasi pada data uji: {accuracy:.2f}\")\n",
        "\n",
        "# Predict\n",
        "y_pred = model.predict(X_test_scaled)\n",
        "y_pred_class = (y_pred > 0.5).astype(\"int32\")\n",
        "\n",
        "# Confusion matrix\n",
        "cm = confusion_matrix(y_test, y_pred_class)\n",
        "print(\"Confusion Matrix:\\n\", cm)\n",
        "\n",
        "# Classification report\n",
        "print(classification_report(y_test, y_pred_class))\n"
      ],
      "metadata": {
        "id": "wKcl_QIHwQNE",
        "colab": {
          "base_uri": "https://localhost:8080/"
        },
        "outputId": "51368e4d-80b7-42af-95a3-5125b75aca7a"
      },
      "execution_count": null,
      "outputs": [
        {
          "output_type": "stream",
          "name": "stderr",
          "text": [
            "/usr/local/lib/python3.11/dist-packages/keras/src/layers/core/dense.py:87: UserWarning: Do not pass an `input_shape`/`input_dim` argument to a layer. When using Sequential models, prefer using an `Input(shape)` object as the first layer in the model instead.\n",
            "  super().__init__(activity_regularizer=activity_regularizer, **kwargs)\n"
          ]
        },
        {
          "output_type": "stream",
          "name": "stdout",
          "text": [
            "Epoch 1/50\n",
            "\u001b[1m350/350\u001b[0m \u001b[32m━━━━━━━━━━━━━━━━━━━━\u001b[0m\u001b[37m\u001b[0m \u001b[1m2s\u001b[0m 2ms/step - accuracy: 0.5349 - loss: 0.7031\n",
            "Epoch 2/50\n",
            "\u001b[1m350/350\u001b[0m \u001b[32m━━━━━━━━━━━━━━━━━━━━\u001b[0m\u001b[37m\u001b[0m \u001b[1m1s\u001b[0m 2ms/step - accuracy: 0.9430 - loss: 0.2502\n",
            "Epoch 3/50\n",
            "\u001b[1m350/350\u001b[0m \u001b[32m━━━━━━━━━━━━━━━━━━━━\u001b[0m\u001b[37m\u001b[0m \u001b[1m1s\u001b[0m 2ms/step - accuracy: 0.9554 - loss: 0.1489\n",
            "Epoch 4/50\n",
            "\u001b[1m350/350\u001b[0m \u001b[32m━━━━━━━━━━━━━━━━━━━━\u001b[0m\u001b[37m\u001b[0m \u001b[1m1s\u001b[0m 2ms/step - accuracy: 0.9663 - loss: 0.1116\n",
            "Epoch 5/50\n",
            "\u001b[1m350/350\u001b[0m \u001b[32m━━━━━━━━━━━━━━━━━━━━\u001b[0m\u001b[37m\u001b[0m \u001b[1m1s\u001b[0m 2ms/step - accuracy: 0.9656 - loss: 0.1008\n",
            "Epoch 6/50\n",
            "\u001b[1m350/350\u001b[0m \u001b[32m━━━━━━━━━━━━━━━━━━━━\u001b[0m\u001b[37m\u001b[0m \u001b[1m1s\u001b[0m 2ms/step - accuracy: 0.9642 - loss: 0.0922\n",
            "Epoch 7/50\n",
            "\u001b[1m350/350\u001b[0m \u001b[32m━━━━━━━━━━━━━━━━━━━━\u001b[0m\u001b[37m\u001b[0m \u001b[1m1s\u001b[0m 3ms/step - accuracy: 0.9710 - loss: 0.0848\n",
            "Epoch 8/50\n",
            "\u001b[1m350/350\u001b[0m \u001b[32m━━━━━━━━━━━━━━━━━━━━\u001b[0m\u001b[37m\u001b[0m \u001b[1m1s\u001b[0m 3ms/step - accuracy: 0.9730 - loss: 0.0820\n",
            "Epoch 9/50\n",
            "\u001b[1m350/350\u001b[0m \u001b[32m━━━━━━━━━━━━━━━━━━━━\u001b[0m\u001b[37m\u001b[0m \u001b[1m1s\u001b[0m 2ms/step - accuracy: 0.9690 - loss: 0.0838\n",
            "Epoch 10/50\n",
            "\u001b[1m350/350\u001b[0m \u001b[32m━━━━━━━━━━━━━━━━━━━━\u001b[0m\u001b[37m\u001b[0m \u001b[1m1s\u001b[0m 2ms/step - accuracy: 0.9668 - loss: 0.0842\n",
            "Epoch 11/50\n",
            "\u001b[1m350/350\u001b[0m \u001b[32m━━━━━━━━━━━━━━━━━━━━\u001b[0m\u001b[37m\u001b[0m \u001b[1m1s\u001b[0m 2ms/step - accuracy: 0.9687 - loss: 0.0773\n",
            "Epoch 12/50\n",
            "\u001b[1m350/350\u001b[0m \u001b[32m━━━━━━━━━━━━━━━━━━━━\u001b[0m\u001b[37m\u001b[0m \u001b[1m1s\u001b[0m 2ms/step - accuracy: 0.9752 - loss: 0.0663\n",
            "Epoch 13/50\n",
            "\u001b[1m350/350\u001b[0m \u001b[32m━━━━━━━━━━━━━━━━━━━━\u001b[0m\u001b[37m\u001b[0m \u001b[1m1s\u001b[0m 2ms/step - accuracy: 0.9769 - loss: 0.0655\n",
            "Epoch 14/50\n",
            "\u001b[1m350/350\u001b[0m \u001b[32m━━━━━━━━━━━━━━━━━━━━\u001b[0m\u001b[37m\u001b[0m \u001b[1m1s\u001b[0m 2ms/step - accuracy: 0.9783 - loss: 0.0627\n",
            "Epoch 15/50\n",
            "\u001b[1m350/350\u001b[0m \u001b[32m━━━━━━━━━━━━━━━━━━━━\u001b[0m\u001b[37m\u001b[0m \u001b[1m1s\u001b[0m 2ms/step - accuracy: 0.9700 - loss: 0.0796\n",
            "Epoch 16/50\n",
            "\u001b[1m350/350\u001b[0m \u001b[32m━━━━━━━━━━━━━━━━━━━━\u001b[0m\u001b[37m\u001b[0m \u001b[1m1s\u001b[0m 2ms/step - accuracy: 0.9784 - loss: 0.0623\n",
            "Epoch 17/50\n",
            "\u001b[1m350/350\u001b[0m \u001b[32m━━━━━━━━━━━━━━━━━━━━\u001b[0m\u001b[37m\u001b[0m \u001b[1m1s\u001b[0m 2ms/step - accuracy: 0.9781 - loss: 0.0650\n",
            "Epoch 18/50\n",
            "\u001b[1m350/350\u001b[0m \u001b[32m━━━━━━━━━━━━━━━━━━━━\u001b[0m\u001b[37m\u001b[0m \u001b[1m2s\u001b[0m 3ms/step - accuracy: 0.9795 - loss: 0.0555\n",
            "Epoch 19/50\n",
            "\u001b[1m350/350\u001b[0m \u001b[32m━━━━━━━━━━━━━━━━━━━━\u001b[0m\u001b[37m\u001b[0m \u001b[1m1s\u001b[0m 2ms/step - accuracy: 0.9814 - loss: 0.0572\n",
            "Epoch 20/50\n",
            "\u001b[1m350/350\u001b[0m \u001b[32m━━━━━━━━━━━━━━━━━━━━\u001b[0m\u001b[37m\u001b[0m \u001b[1m1s\u001b[0m 2ms/step - accuracy: 0.9785 - loss: 0.0642\n",
            "Epoch 21/50\n",
            "\u001b[1m350/350\u001b[0m \u001b[32m━━━━━━━━━━━━━━━━━━━━\u001b[0m\u001b[37m\u001b[0m \u001b[1m1s\u001b[0m 2ms/step - accuracy: 0.9792 - loss: 0.0550\n",
            "Epoch 22/50\n",
            "\u001b[1m350/350\u001b[0m \u001b[32m━━━━━━━━━━━━━━━━━━━━\u001b[0m\u001b[37m\u001b[0m \u001b[1m1s\u001b[0m 2ms/step - accuracy: 0.9793 - loss: 0.0605\n",
            "Epoch 23/50\n",
            "\u001b[1m350/350\u001b[0m \u001b[32m━━━━━━━━━━━━━━━━━━━━\u001b[0m\u001b[37m\u001b[0m \u001b[1m1s\u001b[0m 2ms/step - accuracy: 0.9794 - loss: 0.0602\n",
            "Epoch 24/50\n",
            "\u001b[1m350/350\u001b[0m \u001b[32m━━━━━━━━━━━━━━━━━━━━\u001b[0m\u001b[37m\u001b[0m \u001b[1m1s\u001b[0m 2ms/step - accuracy: 0.9788 - loss: 0.0614\n",
            "Epoch 25/50\n",
            "\u001b[1m350/350\u001b[0m \u001b[32m━━━━━━━━━━━━━━━━━━━━\u001b[0m\u001b[37m\u001b[0m \u001b[1m1s\u001b[0m 2ms/step - accuracy: 0.9809 - loss: 0.0590\n",
            "Epoch 26/50\n",
            "\u001b[1m350/350\u001b[0m \u001b[32m━━━━━━━━━━━━━━━━━━━━\u001b[0m\u001b[37m\u001b[0m \u001b[1m1s\u001b[0m 2ms/step - accuracy: 0.9827 - loss: 0.0563\n",
            "Epoch 27/50\n",
            "\u001b[1m350/350\u001b[0m \u001b[32m━━━━━━━━━━━━━━━━━━━━\u001b[0m\u001b[37m\u001b[0m \u001b[1m1s\u001b[0m 2ms/step - accuracy: 0.9828 - loss: 0.0487\n",
            "Epoch 28/50\n",
            "\u001b[1m350/350\u001b[0m \u001b[32m━━━━━━━━━━━━━━━━━━━━\u001b[0m\u001b[37m\u001b[0m \u001b[1m1s\u001b[0m 2ms/step - accuracy: 0.9794 - loss: 0.0582\n",
            "Epoch 29/50\n",
            "\u001b[1m350/350\u001b[0m \u001b[32m━━━━━━━━━━━━━━━━━━━━\u001b[0m\u001b[37m\u001b[0m \u001b[1m2s\u001b[0m 3ms/step - accuracy: 0.9810 - loss: 0.0612\n",
            "Epoch 30/50\n",
            "\u001b[1m350/350\u001b[0m \u001b[32m━━━━━━━━━━━━━━━━━━━━\u001b[0m\u001b[37m\u001b[0m \u001b[1m1s\u001b[0m 3ms/step - accuracy: 0.9806 - loss: 0.0602\n",
            "Epoch 31/50\n",
            "\u001b[1m350/350\u001b[0m \u001b[32m━━━━━━━━━━━━━━━━━━━━\u001b[0m\u001b[37m\u001b[0m \u001b[1m1s\u001b[0m 2ms/step - accuracy: 0.9865 - loss: 0.0466\n",
            "Epoch 32/50\n",
            "\u001b[1m350/350\u001b[0m \u001b[32m━━━━━━━━━━━━━━━━━━━━\u001b[0m\u001b[37m\u001b[0m \u001b[1m1s\u001b[0m 2ms/step - accuracy: 0.9842 - loss: 0.0460\n",
            "Epoch 33/50\n",
            "\u001b[1m350/350\u001b[0m \u001b[32m━━━━━━━━━━━━━━━━━━━━\u001b[0m\u001b[37m\u001b[0m \u001b[1m1s\u001b[0m 2ms/step - accuracy: 0.9841 - loss: 0.0468\n",
            "Epoch 34/50\n",
            "\u001b[1m350/350\u001b[0m \u001b[32m━━━━━━━━━━━━━━━━━━━━\u001b[0m\u001b[37m\u001b[0m \u001b[1m1s\u001b[0m 2ms/step - accuracy: 0.9809 - loss: 0.0522\n",
            "Epoch 35/50\n",
            "\u001b[1m350/350\u001b[0m \u001b[32m━━━━━━━━━━━━━━━━━━━━\u001b[0m\u001b[37m\u001b[0m \u001b[1m1s\u001b[0m 2ms/step - accuracy: 0.9837 - loss: 0.0500\n",
            "Epoch 36/50\n",
            "\u001b[1m350/350\u001b[0m \u001b[32m━━━━━━━━━━━━━━━━━━━━\u001b[0m\u001b[37m\u001b[0m \u001b[1m1s\u001b[0m 2ms/step - accuracy: 0.9867 - loss: 0.0458\n",
            "Epoch 37/50\n",
            "\u001b[1m350/350\u001b[0m \u001b[32m━━━━━━━━━━━━━━━━━━━━\u001b[0m\u001b[37m\u001b[0m \u001b[1m1s\u001b[0m 2ms/step - accuracy: 0.9789 - loss: 0.0571\n",
            "Epoch 38/50\n",
            "\u001b[1m350/350\u001b[0m \u001b[32m━━━━━━━━━━━━━━━━━━━━\u001b[0m\u001b[37m\u001b[0m \u001b[1m1s\u001b[0m 2ms/step - accuracy: 0.9822 - loss: 0.0483\n",
            "Epoch 39/50\n",
            "\u001b[1m350/350\u001b[0m \u001b[32m━━━━━━━━━━━━━━━━━━━━\u001b[0m\u001b[37m\u001b[0m \u001b[1m1s\u001b[0m 2ms/step - accuracy: 0.9827 - loss: 0.0512\n",
            "Epoch 40/50\n",
            "\u001b[1m350/350\u001b[0m \u001b[32m━━━━━━━━━━━━━━━━━━━━\u001b[0m\u001b[37m\u001b[0m \u001b[1m2s\u001b[0m 3ms/step - accuracy: 0.9835 - loss: 0.0476\n",
            "Epoch 41/50\n",
            "\u001b[1m350/350\u001b[0m \u001b[32m━━━━━━━━━━━━━━━━━━━━\u001b[0m\u001b[37m\u001b[0m \u001b[1m1s\u001b[0m 3ms/step - accuracy: 0.9842 - loss: 0.0454\n",
            "Epoch 42/50\n",
            "\u001b[1m350/350\u001b[0m \u001b[32m━━━━━━━━━━━━━━━━━━━━\u001b[0m\u001b[37m\u001b[0m \u001b[1m1s\u001b[0m 2ms/step - accuracy: 0.9801 - loss: 0.0505\n",
            "Epoch 43/50\n",
            "\u001b[1m350/350\u001b[0m \u001b[32m━━━━━━━━━━━━━━━━━━━━\u001b[0m\u001b[37m\u001b[0m \u001b[1m1s\u001b[0m 2ms/step - accuracy: 0.9856 - loss: 0.0453\n",
            "Epoch 44/50\n",
            "\u001b[1m350/350\u001b[0m \u001b[32m━━━━━━━━━━━━━━━━━━━━\u001b[0m\u001b[37m\u001b[0m \u001b[1m1s\u001b[0m 2ms/step - accuracy: 0.9832 - loss: 0.0485\n",
            "Epoch 45/50\n",
            "\u001b[1m350/350\u001b[0m \u001b[32m━━━━━━━━━━━━━━━━━━━━\u001b[0m\u001b[37m\u001b[0m \u001b[1m1s\u001b[0m 2ms/step - accuracy: 0.9833 - loss: 0.0482\n",
            "Epoch 46/50\n",
            "\u001b[1m350/350\u001b[0m \u001b[32m━━━━━━━━━━━━━━━━━━━━\u001b[0m\u001b[37m\u001b[0m \u001b[1m1s\u001b[0m 2ms/step - accuracy: 0.9800 - loss: 0.0457\n",
            "Epoch 47/50\n",
            "\u001b[1m350/350\u001b[0m \u001b[32m━━━━━━━━━━━━━━━━━━━━\u001b[0m\u001b[37m\u001b[0m \u001b[1m1s\u001b[0m 2ms/step - accuracy: 0.9802 - loss: 0.0521\n",
            "Epoch 48/50\n",
            "\u001b[1m350/350\u001b[0m \u001b[32m━━━━━━━━━━━━━━━━━━━━\u001b[0m\u001b[37m\u001b[0m \u001b[1m1s\u001b[0m 2ms/step - accuracy: 0.9867 - loss: 0.0392\n",
            "Epoch 49/50\n",
            "\u001b[1m350/350\u001b[0m \u001b[32m━━━━━━━━━━━━━━━━━━━━\u001b[0m\u001b[37m\u001b[0m \u001b[1m1s\u001b[0m 2ms/step - accuracy: 0.9851 - loss: 0.0445\n",
            "Epoch 50/50\n",
            "\u001b[1m350/350\u001b[0m \u001b[32m━━━━━━━━━━━━━━━━━━━━\u001b[0m\u001b[37m\u001b[0m \u001b[1m1s\u001b[0m 2ms/step - accuracy: 0.9844 - loss: 0.0432\n",
            "\u001b[1m47/47\u001b[0m \u001b[32m━━━━━━━━━━━━━━━━━━━━\u001b[0m\u001b[37m\u001b[0m \u001b[1m0s\u001b[0m 2ms/step - accuracy: 0.9737 - loss: 0.0854\n",
            "Akurasi pada data uji: 0.98\n",
            "\u001b[1m47/47\u001b[0m \u001b[32m━━━━━━━━━━━━━━━━━━━━\u001b[0m\u001b[37m\u001b[0m \u001b[1m0s\u001b[0m 3ms/step\n",
            "Confusion Matrix:\n",
            " [[1344    7]\n",
            " [  29  120]]\n",
            "              precision    recall  f1-score   support\n",
            "\n",
            "           0       0.98      0.99      0.99      1351\n",
            "           1       0.94      0.81      0.87       149\n",
            "\n",
            "    accuracy                           0.98      1500\n",
            "   macro avg       0.96      0.90      0.93      1500\n",
            "weighted avg       0.98      0.98      0.98      1500\n",
            "\n"
          ]
        }
      ]
    },
    {
      "cell_type": "markdown",
      "source": [
        "Interpretasi :\n",
        "\n",
        "Model neural network yang dibangun menunjukkan kinerja klasifikasi yang sangat baik dengan tingkat akurasi keseluruhan sebesar 98%. Hal ini tercermin dari confusion matrix yang memperlihatkan 1.343 prediksi benar untuk nasabah yang tidak mengambil pinjaman (kelas 0) dan 123 prediksi benar untuk nasabah yang mengambil pinjaman (kelas 1). Precision untuk kelas 1 sebesar 0.94 menunjukkan bahwa dari seluruh prediksi \"akan mengambil pinjaman\", 94% di antaranya benar. Namun, recall untuk kelas 1 hanya sebesar 0.83, artinya masih ada 17% nasabah yang sebenarnya mengambil pinjaman tetapi tidak terdeteksi oleh model. Dengan F1-score sebesar 0.88 untuk kelas 1, model ini tetap menunjukkan keseimbangan yang baik antara precision dan recall. Meskipun performa keseluruhan tergolong tinggi, peningkatan pada recall kelas 1 dapat dipertimbangkan, terutama jika tujuan bisnis adalah mengidentifikasi sebanyak mungkin calon nasabah yang potensial mengambil pinjaman."
      ],
      "metadata": {
        "id": "-o4d0ONXwQ8j"
      }
    },
    {
      "cell_type": "markdown",
      "source": [
        "# Studi Kasus Pradytha Galuh"
      ],
      "metadata": {
        "id": "m3c6Ga9NwVro"
      }
    },
    {
      "cell_type": "markdown",
      "source": [
        "Studi kasus ini menggunakan data nasabah dari sebuah bank untuk memprediksi apakah seorang nasabah akan melakukan churn (berhenti menjadi pelanggan) atau tetap bertahan. Data mencakup informasi demografis, kondisi finansial, serta perilaku interaksi nasabah dengan bank. Tujuan analisis ini adalah membangun model prediktif berbasis Neural Network untuk mengidentifikasi pola yang berkaitan dengan potensi churn nasabah."
      ],
      "metadata": {
        "id": "ox_lN3qewgMP"
      }
    },
    {
      "cell_type": "code",
      "source": [
        "import numpy as np\n",
        "import matplotlib.pyplot as plt\n",
        "import seaborn as sns\n",
        "from sklearn.metrics import classification_report, confusion_matrix\n",
        "\n",
        "# Data dari confusion matrix\n",
        "cm_data = np.array([[1292, 307], [111, 291]])\n",
        "\n",
        "# Buat data y_true dan y_pred dari confusion matrix\n",
        "y_true = [0]*1599 + [1]*402  # 1599 class 0, 402 class 1\n",
        "y_pred = [0]*1292 + [1]*307 + [0]*111 + [1]*291\n",
        "\n",
        "# Print Classification Report\n",
        "print(\"=== Classification Report ===\")\n",
        "print(classification_report(y_true, y_pred, digits=2))\n",
        "\n",
        "# Print Accuracy\n",
        "accuracy = (1292 + 291) / 2001\n",
        "print(f\"Accuracy: {accuracy:.12f}\")\n",
        "\n",
        "# Plot Confusion Matrix\n",
        "plt.figure(figsize=(6, 5))\n",
        "plt.title('Confusion Matrix', fontweight='bold')\n",
        "sns.heatmap(cm_data, annot=True, fmt='d', cmap='Blues')\n",
        "plt.xlabel('Predicted')\n",
        "plt.ylabel('Actual')\n",
        "plt.show()"
      ],
      "metadata": {
        "id": "UuFkEyVUwivn",
        "colab": {
          "base_uri": "https://localhost:8080/",
          "height": 684
        },
        "outputId": "07bd4640-40c3-446f-ee21-efbef9936042"
      },
      "execution_count": null,
      "outputs": [
        {
          "output_type": "stream",
          "name": "stdout",
          "text": [
            "=== Classification Report ===\n",
            "              precision    recall  f1-score   support\n",
            "\n",
            "           0       0.92      0.81      0.86      1599\n",
            "           1       0.49      0.72      0.58       402\n",
            "\n",
            "    accuracy                           0.79      2001\n",
            "   macro avg       0.70      0.77      0.72      2001\n",
            "weighted avg       0.83      0.79      0.80      2001\n",
            "\n",
            "Accuracy: 0.791104447776\n"
          ]
        },
        {
          "output_type": "display_data",
          "data": {
            "text/plain": [
              "<Figure size 600x500 with 2 Axes>"
            ],
            "image/png": "[encoded data removed]"
          },
          "metadata": {}
        }
      ]
    },
    {
      "cell_type": "markdown",
      "source": [
        "**Interpretasi Hasil :**\n",
        "\n",
        "Berdasarkan hasil evaluasi model Neural Network, dapat diinterpretasikan bahwa model menunjukkan performa yang berbeda untuk setiap kelas prediksi. Untuk kelas non-churn (Class 0), model memperoleh precision sebesar 92%, yang berarti ketika model memprediksi seorang nasabah tidak akan melakukan churn, prediksi tersebut memiliki tingkat akurasi yang sangat tinggi. Recall untuk kelas ini mencapai 81%, menunjukkan bahwa model berhasil mengidentifikasi 81% dari seluruh nasabah yang benar-benar tidak churn. Kombinasi kedua metrik ini menghasilkan F1-Score sebesar 86%, yang menunjukkan keseimbangan yang baik antara precision dan recall untuk kelas non-churn.\n",
        "Sebaliknya, performa model untuk kelas churn (Class 1) menunjukkan hasil yang berbeda. Precision untuk kelas churn hanya mencapai 49%, yang berarti dari semua prediksi churn yang dibuat model, hanya sekitar setengahnya yang benar. Hal ini mengindikasikan tingginya tingkat false positive dalam prediksi churn. Namun, recall untuk kelas churn cukup baik dengan nilai 72%, menunjukkan bahwa model berhasil mendeteksi 72% dari nasabah yang benar-benar melakukan churn. F1-Score untuk kelas ini adalah 58%, yang menunjukkan performa yang moderat dengan masih terdapat ruang perbaikan yang signifikan.\n",
        "Karakteristik dataset menunjukkan adanya ketidakseimbangan kelas yang signifikan, dengan 1599 sampel non-churn berbanding 402 sampel churn, atau sekitar rasio 4:1. Ketidakseimbangan ini menyebabkan model menunjukkan bias terhadap majority class (non-churn), sehingga cenderung lebih akurat dalam memprediksi nasabah yang tidak akan churn dibandingkan dengan nasabah yang akan churn."
      ],
      "metadata": {
        "id": "RL3BFC8Ew8ul"
      }
    },
    {
      "cell_type": "markdown",
      "source": [
        "**Kesimpulan**\n",
        "\n",
        "Model Neural Network yang telah dikembangkan menunjukkan performa yang cukup promising untuk prediksi customer churn dengan tingkat akurasi 79.11%. Meskipun model menunjukkan kemampuan yang excellent dalam mengidentifikasi nasabah yang loyal, masih terdapat ruang perbaikan yang signifikan dalam prediksi nasabah yang berpotensi churn. Hasil evaluasi ini dapat dijadikan sebagai baseline untuk pengembangan strategi customer retention yang lebih efektif di masa mendatang. Fokus utama perbaikan model harus diarahkan pada peningkatan precision untuk kelas churn guna mengoptimalkan alokasi sumber daya dalam departemen marketing dan customer service, sehingga bank dapat menjalankan retention strategy yang lebih targeted dan cost-effective."
      ],
      "metadata": {
        "id": "r-Xk7aARxBMB"
      }
    },
    {
      "cell_type": "markdown",
      "source": [
        "# Studi Kasus Nur Aini Rahayu"
      ],
      "metadata": {
        "id": "ofEXsC2D364v"
      }
    },
    {
      "cell_type": "markdown",
      "source": [
        "Studi ini menunjukkan penerapan pelatihan jaringan saraf tiruan pada data transaksi pelanggan untuk mengklasifikasikan minat pembelian produk (tidak beli atau beli). Tujuannya adalah untuk membantu perusahaan dalam mengidentifikasi calon pelanggan potensial dan mengarahkan strategi pemasaran yang lebih tepat sasaran. Penelitian ini menggunakan beberapa variabel prediktor yang berasal dari riwayat transaksi pelanggan, termasuk frekuensi pembelian, total pengeluaran, rata-rata nilai transaksi, dan kategori produk yang paling sering dibeli. Data kemudian diolah dan dibagi menjadi dua kelas target: 0 (tidak beli) dan 1 (beli). Untuk meningkatkan kinerja model, dilakukan normalisasi dan pembagian data menjadi data pelatihan dan data pengujian"
      ],
      "metadata": {
        "id": "ZQEFShE34BV8"
      }
    },
    {
      "cell_type": "code",
      "source": [
        "# Import library\n",
        "import numpy as np\n",
        "import pandas as pd\n",
        "from sklearn.model_selection import train_test_split\n",
        "from sklearn.preprocessing import StandardScaler\n",
        "from sklearn.metrics import classification_report, confusion_matrix\n",
        "from tensorflow.keras.models import Sequential\n",
        "from tensorflow.keras.layers import Dense\n",
        "import matplotlib.pyplot as plt\n",
        "import seaborn as sns\n",
        "\n",
        "# 1. Simulasi data pelanggan\n",
        "np.random.seed(42)\n",
        "data = pd.DataFrame({\n",
        "    'usia': np.random.randint(18, 60, 500),\n",
        "    'frekuensi_belanja': np.random.randint(1, 15, 500),\n",
        "    'total_belanja': np.random.uniform(100000, 3000000, 500),\n",
        "    'waktu_belanja': np.random.randint(0, 24, 500),\n",
        "    'kategori_produk': np.random.choice(['elektronik', 'fashion', 'makanan'], 500),\n",
        "    'minat_beli': np.random.randint(0, 2, 500)\n",
        "})\n",
        "\n",
        "# 2. Pra-pemrosesan data\n",
        "data = pd.get_dummies(data, columns=['kategori_produk'], drop_first=True)\n",
        "X = data.drop('minat_beli', axis=1)\n",
        "y = data['minat_beli']\n",
        "\n",
        "# 3. Split dan normalisasi\n",
        "X_train, X_test, y_train, y_test = train_test_split(X, y, test_size=0.2, random_state=42)\n",
        "scaler = StandardScaler()\n",
        "X_train_scaled = scaler.fit_transform(X_train)\n",
        "X_test_scaled = scaler.transform(X_test)\n",
        "\n",
        "# 4. Model Neural Network\n",
        "model = Sequential([\n",
        "    Dense(16, activation='relu', input_shape=(X_train_scaled.shape[1],)),\n",
        "    Dense(8, activation='relu'),\n",
        "    Dense(1, activation='sigmoid')\n",
        "])\n",
        "model.compile(optimizer='adam', loss='binary_crossentropy', metrics=['accuracy'])\n",
        "\n",
        "# 5. Pelatihan model\n",
        "history = model.fit(X_train_scaled, y_train, epochs=50, batch_size=16, validation_split=0.1, verbose=0)\n",
        "\n",
        "# 6. Evaluasi model\n",
        "y_pred_prob = model.predict(X_test_scaled).flatten()\n",
        "y_pred = (y_pred_prob > 0.5).astype(int)\n",
        "\n",
        "print(\"=== Classification Report ===\")\n",
        "print(classification_report(y_test, y_pred))\n",
        "\n",
        "# 7. Confusion matrix\n",
        "cm = confusion_matrix(y_test, y_pred)\n",
        "plt.figure(figsize=(6, 4))\n",
        "sns.heatmap(cm, annot=True, fmt='d', cmap='Blues', xticklabels=['Tidak Beli', 'Beli'], yticklabels=['Tidak Beli', 'Beli'])\n",
        "plt.xlabel('Prediksi')\n",
        "plt.ylabel('Aktual')\n",
        "plt.title('Confusion Matrix')\n",
        "plt.tight_layout()\n",
        "plt.show()\n",
        "\n",
        "# 8. Visualisasi akurasi dan loss\n",
        "plt.figure(figsize=(10, 4))\n",
        "plt.subplot(1, 2, 1)\n",
        "plt.plot(history.history['accuracy'], label='Train Accuracy')\n",
        "plt.plot(history.history['val_accuracy'], label='Val Accuracy')\n",
        "plt.title('Akurasi Model')\n",
        "plt.xlabel('Epoch')\n",
        "plt.ylabel('Accuracy')\n",
        "plt.legend()\n",
        "\n",
        "plt.subplot(1, 2, 2)\n",
        "plt.plot(history.history['loss'], label='Train Loss')\n",
        "plt.plot(history.history['val_loss'], label='Val Loss')\n",
        "plt.title('Loss Model')\n",
        "plt.xlabel('Epoch')\n",
        "plt.ylabel('Loss')\n",
        "plt.legend()\n",
        "plt.tight_layout()\n",
        "plt.show()"
      ],
      "metadata": {
        "colab": {
          "base_uri": "https://localhost:8080/",
          "height": 1000
        },
        "id": "Ka5O1p9N4B-t",
        "outputId": "be6468b0-0de6-482b-8202-01b3f0dded2e"
      },
      "execution_count": null,
      "outputs": [
        {
          "output_type": "stream",
          "name": "stderr",
          "text": [
            "/usr/local/lib/python3.11/dist-packages/keras/src/layers/core/dense.py:87: UserWarning: Do not pass an `input_shape`/`input_dim` argument to a layer. When using Sequential models, prefer using an `Input(shape)` object as the first layer in the model instead.\n",
            "  super().__init__(activity_regularizer=activity_regularizer, **kwargs)\n"
          ]
        },
        {
          "output_type": "stream",
          "name": "stdout",
          "text": [
            "\u001b[1m4/4\u001b[0m \u001b[32m━━━━━━━━━━━━━━━━━━━━\u001b[0m\u001b[37m\u001b[0m \u001b[1m0s\u001b[0m 19ms/step\n",
            "=== Classification Report ===\n",
            "              precision    recall  f1-score   support\n",
            "\n",
            "           0       0.50      0.35      0.41        52\n",
            "           1       0.47      0.62      0.54        48\n",
            "\n",
            "    accuracy                           0.48       100\n",
            "   macro avg       0.48      0.49      0.47       100\n",
            "weighted avg       0.48      0.48      0.47       100\n",
            "\n"
          ]
        },
        {
          "output_type": "display_data",
          "data": {
            "text/plain": [
              "<Figure size 600x400 with 2 Axes>"
            ],
            "image/png": "[encoded data removed]"
          },
          "metadata": {}
        },
        {
          "output_type": "display_data",
          "data": {
            "text/plain": [
              "<Figure size 1000x400 with 2 Axes>"
            ],
            "image/png": "[encoded data removed]"
          },
          "metadata": {}
        }
      ]
    },
    {
      "cell_type": "markdown",
      "source": [
        "**Interpretasi :**\n",
        "\n",
        "Berdasarkan hasil analisis performa model Neural Network dalam memprediksi minat pembelian pelanggan masih kurang optimal, dengan akurasi hanya 52% dan ketidakseimbangan kinerja antar kelas. Model cenderung lebih baik dalam mengenali pelanggan yang berminat membeli (recall 0,75), namun lemah dalam mengenali yang tidak berminat (recall 0,31). Hal ini menunjukkan bias terhadap kelas beli dan tingginya kesalahan klasifikasi. Untuk meningkatkan keandalan model, perlu dilakukan perbaikan seperti penyeimbangan data, tuning arsitektur, dan penerapan teknik validasi yang lebih baik. Hasil confusion matrix juga menunjukkan bahwa model lebih cenderung memprediksi pelanggan akan membeli, meskipun sebenarnya tidak, terlihat dari tingginya false positive (36 kasus). Hal ini berisiko menimbulkan inefisiensi strategi pemasaran. Model juga masih kesulitan mengenali pelanggan yang tidak berminat, sehingga perlu perbaikan agar klasifikasi kedua kelas menjadi lebih seimbang dan akurat. Sedangkan grafik akurasi dan loss menunjukkan bahwa model mengalami overfitting, di mana akurasi pelatihan meningkat namun akurasi validasi menurun dan tidak stabil. Train loss terus menurun, sementara validation loss justru meningkat, menandakan penurunan performa pada data baru. Untuk mengatasi hal ini, diperlukan teknik seperti regularisasi, pengurangan kompleksitas model, atau early stopping agar model lebih mampu melakukan generalisasi.\n",
        "\n",
        "\n",
        "**Kesimpulan**\n",
        "\n",
        "Model Neural Network yang digunakan untuk memprediksi minat pembelian pelanggan berdasarkan data transaksi menunjukkan performa yang masih perlu ditingkatkan. Berdasarkan evaluasi classification report, akurasi model hanya mencapai 52%, dengan ketidakseimbangan performa antara kelas pelanggan yang membeli dan tidak membeli. Confusion matrix memperlihatkan tingginya false positive, yang dapat berdampak negatif pada strategi promosi. Selain itu, grafik akurasi dan loss menunjukkan gejala overfitting, di mana model terlalu menyesuaikan diri pada data latih tetapi gagal mengeneralisasi data baru. Oleh karena itu, dibutuhkan upaya perbaikan seperti penyeimbangan data, tuning parameter, penggunaan regularisasi, serta validasi silang untuk meningkatkan akurasi dan keandalan model. Dengan perbaikan yang tepat, model ini berpotensi menjadi alat bantu yang efektif dalam mendukung pengambilan keputusan bisnis berbasis data pelanggan."
      ],
      "metadata": {
        "id": "1F3Y8Fjz4CYi"
      }
    },
    {
      "cell_type": "markdown",
      "source": [
        "# Studi Kasus Ziyad Athoillah\n"
      ],
      "metadata": {
        "id": "UwCagt43xnbd"
      }
    },
    {
      "cell_type": "markdown",
      "source": [
        "\n",
        "---\n",
        "\n",
        "##  Pendahuluan\n",
        "\n",
        "### 🔹 MLP – Prediksi Diabetes\n",
        "\n",
        "Diabetes adalah salah satu penyakit kronis yang prevalensinya terus meningkat. Dalam dunia medis dan kesehatan masyarakat, sangat penting untuk dapat memprediksi apakah seseorang berisiko terkena diabetes berdasarkan data klinis seperti kadar glukosa, tekanan darah, BMI, dll. Di sini, kita menggunakan model **Multi-layer Perceptron (MLP)** untuk melakukan klasifikasi apakah seseorang mengidap diabetes (1) atau tidak (0).\n",
        "\n",
        "### 🔹 CNN – Klasifikasi Gambar Angka (MNIST)\n",
        "\n",
        "Pengolahan citra adalah cabang penting dari kecerdasan buatan. Salah satu studi kasus klasik adalah mengenali angka tulisan tangan dari dataset **MNIST**. Di sini digunakan **Convolutional Neural Network (CNN)** untuk melatih komputer mengenali pola visual angka dari 0 hingga 9, yang nantinya bisa diaplikasikan ke OCR (optical character recognition), robotika, atau sistem pembacaan otomatis.\n",
        "\n",
        "---\n",
        "\n",
        "## TUJUAN\n",
        "\n",
        "* **MLPClassifier**: Membangun model klasifikasi untuk memprediksi kejadian diabetes menggunakan data numerik klinis.\n",
        "* **CNN**: Membangun model klasifikasi untuk mengenali angka tulisan tangan dari gambar grayscale 28×28 piksel.\n",
        "\n",
        "---\n",
        "\n",
        "\n"
      ],
      "metadata": {
        "id": "6eo-3WGqfyDE"
      }
    },
    {
      "cell_type": "code",
      "source": [
        "# 1. Import libraries\n",
        "import pandas as pd\n",
        "import numpy as np\n",
        "from sklearn.model_selection import train_test_split\n",
        "from sklearn.neural_network import MLPClassifier\n",
        "from sklearn.preprocessing import StandardScaler\n",
        "from sklearn.metrics import classification_report, confusion_matrix\n",
        "\n",
        "# 2. Load dataset\n",
        "url = \"https://raw.githubusercontent.com/jbrownlee/Datasets/master/pima-indians-diabetes.data.csv\"\n",
        "columns = [\"Pregnancies\", \"Glucose\", \"BloodPressure\", \"SkinThickness\", \"Insulin\",\n",
        "           \"BMI\", \"DiabetesPedigreeFunction\", \"Age\", \"Outcome\"]\n",
        "df = pd.read_csv(url, header=None, names=columns)\n",
        "\n",
        "# 3. Normalize features\n",
        "X = df.drop(\"Outcome\", axis=1)\n",
        "y = df[\"Outcome\"]\n",
        "scaler = StandardScaler()\n",
        "X_scaled = scaler.fit_transform(X)\n",
        "\n",
        "# 4. Train/test split\n",
        "X_train, X_test, y_train, y_test = train_test_split(X_scaled, y, test_size=0.2, random_state=42)\n",
        "\n",
        "# 5. Build MLP model\n",
        "mlp = MLPClassifier(hidden_layer_sizes=(10,), max_iter=1000, random_state=42)\n",
        "mlp.fit(X_train, y_train)\n",
        "\n",
        "# 6. Evaluation\n",
        "y_pred = mlp.predict(X_test)\n",
        "print(confusion_matrix(y_test, y_pred))\n",
        "print(classification_report(y_test, y_pred))\n"
      ],
      "metadata": {
        "colab": {
          "base_uri": "https://localhost:8080/"
        },
        "id": "dbGcOWPHd-Um",
        "outputId": "fe4e62a6-0ca0-4aa2-ec6a-ae942381eb5b"
      },
      "execution_count": null,
      "outputs": [
        {
          "output_type": "stream",
          "name": "stdout",
          "text": [
            "[[77 22]\n",
            " [18 37]]\n",
            "              precision    recall  f1-score   support\n",
            "\n",
            "           0       0.81      0.78      0.79        99\n",
            "           1       0.63      0.67      0.65        55\n",
            "\n",
            "    accuracy                           0.74       154\n",
            "   macro avg       0.72      0.73      0.72       154\n",
            "weighted avg       0.75      0.74      0.74       154\n",
            "\n"
          ]
        }
      ]
    },
    {
      "cell_type": "markdown",
      "source": [
        "## HASIL MODEL\n",
        "\n",
        "###  **MLPClassifier (Pima Indians Diabetes Data)**\n",
        "\n",
        "* **Akurasi**: 0.74 → model memprediksi dengan benar sekitar 74% dari data uji\n",
        "\n",
        "* **Kelas 0 (non-diabetes)**:\n",
        "\n",
        "  * Precision: 0.81 (tinggi)\n",
        "  * Recall: 0.78\n",
        "\n",
        "* **Kelas 1 (diabetes)**:\n",
        "\n",
        "  * Precision: 0.63 (cukup)\n",
        "  * Recall: 0.67\n",
        "\n",
        "---"
      ],
      "metadata": {
        "id": "WlBY0XgcgFJ1"
      }
    },
    {
      "cell_type": "code",
      "source": [
        "import tensorflow as tf\n",
        "from tensorflow.keras.datasets import mnist\n",
        "from tensorflow.keras.models import Sequential\n",
        "from tensorflow.keras.layers import Conv2D, MaxPooling2D, Flatten, Dense\n",
        "from tensorflow.keras.utils import to_categorical\n",
        "\n",
        "# 1. Load data MNIST\n",
        "(X_train, y_train), (X_test, y_test) = mnist.load_data()\n",
        "\n",
        "# 2. Reshape dan normalisasi\n",
        "X_train = X_train.reshape(-1, 28, 28, 1).astype('float32') / 255.0\n",
        "X_test = X_test.reshape(-1, 28, 28, 1).astype('float32') / 255.0\n",
        "y_train_cat = to_categorical(y_train)\n",
        "y_test_cat = to_categorical(y_test)\n",
        "\n",
        "# 3. Build CNN model\n",
        "model = Sequential([\n",
        "    Conv2D(32, kernel_size=(3,3), activation='relu', input_shape=(28,28,1)),\n",
        "    MaxPooling2D(pool_size=(2,2)),\n",
        "    Flatten(),\n",
        "    Dense(128, activation='relu'),\n",
        "    Dense(10, activation='softmax')\n",
        "])\n",
        "\n",
        "# 4. Compile & Train\n",
        "model.compile(optimizer='adam', loss='categorical_crossentropy', metrics=['accuracy'])\n",
        "model.fit(X_train, y_train_cat, epochs=5, batch_size=128, validation_split=0.1)\n",
        "\n",
        "# 5. Evaluate\n",
        "test_loss, test_acc = model.evaluate(X_test, y_test_cat)\n",
        "print(f\"Test Accuracy: {test_acc:.4f}\")\n"
      ],
      "metadata": {
        "colab": {
          "base_uri": "https://localhost:8080/"
        },
        "id": "929-hahheOK5",
        "outputId": "6c1dc1e4-cc90-4c55-f398-5fffefb53a78"
      },
      "execution_count": null,
      "outputs": [
        {
          "output_type": "stream",
          "name": "stdout",
          "text": [
            "Downloading data from https://storage.googleapis.com/tensorflow/tf-keras-datasets/mnist.npz\n",
            "\u001b[1m11490434/11490434\u001b[0m \u001b[32m━━━━━━━━━━━━━━━━━━━━\u001b[0m\u001b[37m\u001b[0m \u001b[1m0s\u001b[0m 0us/step\n"
          ]
        },
        {
          "output_type": "stream",
          "name": "stderr",
          "text": [
            "/usr/local/lib/python3.11/dist-packages/keras/src/layers/convolutional/base_conv.py:107: UserWarning: Do not pass an `input_shape`/`input_dim` argument to a layer. When using Sequential models, prefer using an `Input(shape)` object as the first layer in the model instead.\n",
            "  super().__init__(activity_regularizer=activity_regularizer, **kwargs)\n"
          ]
        },
        {
          "output_type": "stream",
          "name": "stdout",
          "text": [
            "Epoch 1/5\n",
            "\u001b[1m422/422\u001b[0m \u001b[32m━━━━━━━━━━━━━━━━━━━━\u001b[0m\u001b[37m\u001b[0m \u001b[1m28s\u001b[0m 62ms/step - accuracy: 0.8737 - loss: 0.4373 - val_accuracy: 0.9747 - val_loss: 0.0864\n",
            "Epoch 2/5\n",
            "\u001b[1m422/422\u001b[0m \u001b[32m━━━━━━━━━━━━━━━━━━━━\u001b[0m\u001b[37m\u001b[0m \u001b[1m41s\u001b[0m 63ms/step - accuracy: 0.9776 - loss: 0.0779 - val_accuracy: 0.9857 - val_loss: 0.0552\n",
            "Epoch 3/5\n",
            "\u001b[1m422/422\u001b[0m \u001b[32m━━━━━━━━━━━━━━━━━━━━\u001b[0m\u001b[37m\u001b[0m \u001b[1m40s\u001b[0m 60ms/step - accuracy: 0.9868 - loss: 0.0450 - val_accuracy: 0.9852 - val_loss: 0.0538\n",
            "Epoch 4/5\n",
            "\u001b[1m422/422\u001b[0m \u001b[32m━━━━━━━━━━━━━━━━━━━━\u001b[0m\u001b[37m\u001b[0m \u001b[1m41s\u001b[0m 60ms/step - accuracy: 0.9893 - loss: 0.0346 - val_accuracy: 0.9868 - val_loss: 0.0497\n",
            "Epoch 5/5\n",
            "\u001b[1m422/422\u001b[0m \u001b[32m━━━━━━━━━━━━━━━━━━━━\u001b[0m\u001b[37m\u001b[0m \u001b[1m26s\u001b[0m 62ms/step - accuracy: 0.9924 - loss: 0.0259 - val_accuracy: 0.9868 - val_loss: 0.0551\n",
            "\u001b[1m313/313\u001b[0m \u001b[32m━━━━━━━━━━━━━━━━━━━━\u001b[0m\u001b[37m\u001b[0m \u001b[1m2s\u001b[0m 6ms/step - accuracy: 0.9809 - loss: 0.0548\n",
            "Test Accuracy: 0.9843\n"
          ]
        }
      ]
    },
    {
      "cell_type": "markdown",
      "source": [
        "### **CNN (MNIST)**\n",
        "\n",
        "* Akurasi pelatihan sangat tinggi (> 99%)\n",
        "* Akurasi validasi stabil di 98.6%\n",
        "* **Akurasi pada test data**: **98.43%**\n",
        "* Loss akhir sangat kecil, menandakan model sangat baik dan tidak overfit\n",
        "\n",
        "---\n",
        "\n",
        "## INTERPRETASI\n",
        "\n",
        "###  MLP\n",
        "\n",
        "* Model **cukup akurat**, tapi masih bisa ditingkatkan.\n",
        "* Performa kelas 1 (positif diabetes) **lebih rendah**, artinya model cenderung bias ke kelas mayoritas (non-diabetes).\n",
        "* Cocok untuk screening awal, tapi belum ideal untuk aplikasi medis kritis karena **false negative-nya cukup tinggi** (18 orang yang seharusnya dideteksi diabetes malah tidak terdeteksi).\n",
        "* Bisa ditingkatkan dengan **oversampling data minoritas**, **tuning layer**, atau **ensemble model**.\n",
        "\n",
        "###  CNN\n",
        "\n",
        "* Model bekerja **sangat baik** untuk mengenali angka 0-9.\n",
        "* Akurasi tinggi pada data validasi dan test → model **tidak overfit**.\n",
        "* Artinya: model dapat **diandalkan untuk deployment** ke sistem real-time klasifikasi angka (misal OCR scanner di bank, kasir, dsb.)\n",
        "\n",
        "---\n",
        "\n",
        "## KESIMPULAN\n",
        "\n",
        "| Model | Tipe Data      | Akurasi | Cocok Untuk              |\n",
        "| ----- | -------------- | ------- | ------------------------ |\n",
        "| MLP   | Tabular        | \\~74%   | Deteksi risiko kesehatan |\n",
        "| CNN   | Gambar (MNIST) | \\~98.4% | Klasifikasi visual angka |\n"
      ],
      "metadata": {
        "id": "qolBY5jTgbmA"
      }
    },
    {
      "cell_type": "markdown",
      "source": [
        "# Studi Kasus Ibnu Raihan"
      ],
      "metadata": {
        "id": "lg8DQlwSxrcn"
      }
    },
    {
      "cell_type": "markdown",
      "source": [
        "**Latar Belakang dan Tujuan Proyek**\n",
        "\n",
        "Di era digital, memahami perilaku dan karakteristik pelanggan menjadi kunci utama dalam strategi pemasaran yang efektif. Perusahaan memerlukan pendekatan data-driven untuk mengidentifikasi pelanggan potensial yang kemungkinan besar akan merespon kampanye pemasaran. Tanpa prediksi yang tepat, perusahaan berisiko menghabiskan anggaran promosi pada target yang tidak sesuai, sehingga efisiensi biaya dan efektivitas kampanye menurun.\n",
        "\n",
        "Tujuan utama dari proyek ini adalah:\n",
        "\n",
        "1. Membangun model prediktif menggunakan Neural Network (NN) untuk memprediksi apakah seorang pelanggan akan merespon kampanye pemasaran atau tidak.\n",
        "\n",
        "2. Memberikan rekomendasi strategi pemasaran berdasarkan hasil model guna meningkatkan efektivitas kampanye dan pengelolaan pelanggan."
      ],
      "metadata": {
        "id": "hDVcBu3qxui1"
      }
    },
    {
      "cell_type": "code",
      "source": [
        "# Import libraries\n",
        "import pandas as pd\n",
        "import numpy as np\n",
        "from sklearn.model_selection import train_test_split\n",
        "from sklearn.preprocessing import StandardScaler, OneHotEncoder\n",
        "from sklearn.compose import ColumnTransformer\n",
        "from sklearn.pipeline import Pipeline\n",
        "from tensorflow.keras.models import Sequential\n",
        "from tensorflow.keras.layers import Dense\n",
        "from tensorflow.keras.optimizers import Adam\n",
        "\n",
        "# Load dataset\n",
        "data = pd.read_csv('marketing_campaign.csv')\n",
        "\n",
        "# Pilih fitur dan target\n",
        "data = data[['Income', 'Kidhome', 'Teenhome', 'Recency', 'MntWines', 'MntFruits',\n",
        "             'MntMeatProducts', 'MntFishProducts', 'MntSweetProducts', 'MntGoldProds',\n",
        "             'NumDealsPurchases', 'NumWebPurchases', 'NumCatalogPurchases',\n",
        "             'NumStorePurchases', 'NumWebVisitsMonth', 'AcceptedCmp1', 'AcceptedCmp2',\n",
        "             'AcceptedCmp3', 'AcceptedCmp4', 'AcceptedCmp5', 'Response', 'Education', 'Marital_Status']]\n",
        "\n",
        "# Isi missing value Income\n",
        "data['Income'] = data['Income'].fillna(data['Income'].median())\n",
        "\n",
        "# Pisahkan fitur dan target\n",
        "X = data.drop('Response', axis=1)\n",
        "y = data['Response']\n",
        "\n",
        "# Kolom numerik dan kategorikal\n",
        "numeric_features = X.select_dtypes(include=['int64', 'float64']).columns.tolist()\n",
        "categorical_features = ['Education', 'Marital_Status']\n",
        "\n",
        "# Preprocessing pipelines\n",
        "numeric_transformer = Pipeline(steps=[('scaler', StandardScaler())])\n",
        "categorical_transformer = Pipeline(steps=[('encoder', OneHotEncoder(drop='first'))])\n",
        "\n",
        "preprocessor = ColumnTransformer(transformers=[\n",
        "    ('num', numeric_transformer, numeric_features),\n",
        "    ('cat', categorical_transformer, categorical_features)\n",
        "])\n",
        "\n",
        "# Fit dan transform\n",
        "X_processed = preprocessor.fit_transform(X)\n",
        "\n",
        "# Split data\n",
        "X_train, X_test, y_train, y_test = train_test_split(X_processed, y, test_size=0.2, random_state=42, stratify=y)\n",
        "\n",
        "# Model Neural Network\n",
        "model = Sequential([\n",
        "    Dense(16, activation='relu', input_shape=(X_train.shape[1],)),\n",
        "    Dense(8, activation='relu'),\n",
        "    Dense(1, activation='sigmoid')\n",
        "])\n",
        "\n",
        "# Compile\n",
        "model.compile(optimizer=Adam(learning_rate=0.001), loss='binary_crossentropy', metrics=['accuracy'])\n",
        "\n",
        "# Training\n",
        "history = model.fit(X_train, y_train, epochs=50, batch_size=32, validation_split=0.2, verbose=1)\n",
        "\n",
        "# Prediksi pada Train dan Test\n",
        "y_train_pred_prob = model.predict(X_train)\n",
        "y_test_pred_prob = model.predict(X_test)\n",
        "\n",
        "# Konversi probabilitas ke label biner\n",
        "y_train_pred = (y_train_pred_prob > 0.5).astype(int)\n",
        "y_test_pred = (y_test_pred_prob > 0.5).astype(int)\n",
        "\n",
        "# Akurasi\n",
        "train_acc = accuracy_score(y_train, y_train_pred)\n",
        "test_acc = accuracy_score(y_test, y_test_pred)\n",
        "\n",
        "# F1-Score\n",
        "train_f1 = f1_score(y_train, y_train_pred)\n",
        "test_f1 = f1_score(y_test, y_test_pred)\n",
        "\n",
        "print(f'\\nAkurasi Training Set: {train_acc*100:.2f}%')\n",
        "print(f'Akurasi Testing Set: {test_acc*100:.2f}%')\n",
        "\n",
        "print(f'\\nF1-Score Training Set: {train_f1:.2f}')\n",
        "print(f'F1-Score Testing Set: {test_f1:.2f}')\n",
        "\n",
        "# Classification Report\n",
        "print('\\nClassification Report (Test Set):\\n', classification_report(y_test, y_test_pred))\n",
        "\n",
        "# Confusion Matrix\n",
        "print('\\nConfusion Matrix (Test Set):\\n', confusion_matrix(y_test, y_test_pred))\n"
      ],
      "metadata": {
        "colab": {
          "base_uri": "https://localhost:8080/"
        },
        "id": "qyaiXkphx8jN",
        "outputId": "44a4e54b-bf72-4a6c-d11a-b8d059d77577"
      },
      "execution_count": null,
      "outputs": [
        {
          "output_type": "stream",
          "name": "stderr",
          "text": [
            "/usr/local/lib/python3.11/dist-packages/keras/src/layers/core/dense.py:87: UserWarning: Do not pass an `input_shape`/`input_dim` argument to a layer. When using Sequential models, prefer using an `Input(shape)` object as the first layer in the model instead.\n",
            "  super().__init__(activity_regularizer=activity_regularizer, **kwargs)\n"
          ]
        },
        {
          "output_type": "stream",
          "name": "stdout",
          "text": [
            "Epoch 1/50\n",
            "\u001b[1m45/45\u001b[0m \u001b[32m━━━━━━━━━━━━━━━━━━━━\u001b[0m\u001b[37m\u001b[0m \u001b[1m3s\u001b[0m 13ms/step - accuracy: 0.6780 - loss: 0.6317 - val_accuracy: 0.8245 - val_loss: 0.5302\n",
            "Epoch 2/50\n",
            "\u001b[1m45/45\u001b[0m \u001b[32m━━━━━━━━━━━━━━━━━━━━\u001b[0m\u001b[37m\u001b[0m \u001b[1m0s\u001b[0m 5ms/step - accuracy: 0.8514 - loss: 0.4807 - val_accuracy: 0.8189 - val_loss: 0.4406\n",
            "Epoch 3/50\n",
            "\u001b[1m45/45\u001b[0m \u001b[32m━━━━━━━━━━━━━━━━━━━━\u001b[0m\u001b[37m\u001b[0m \u001b[1m0s\u001b[0m 10ms/step - accuracy: 0.8679 - loss: 0.3840 - val_accuracy: 0.8217 - val_loss: 0.4053\n",
            "Epoch 4/50\n",
            "\u001b[1m45/45\u001b[0m \u001b[32m━━━━━━━━━━━━━━━━━━━━\u001b[0m\u001b[37m\u001b[0m \u001b[1m1s\u001b[0m 10ms/step - accuracy: 0.8464 - loss: 0.3591 - val_accuracy: 0.8301 - val_loss: 0.3833\n",
            "Epoch 5/50\n",
            "\u001b[1m45/45\u001b[0m \u001b[32m━━━━━━━━━━━━━━━━━━━━\u001b[0m\u001b[37m\u001b[0m \u001b[1m0s\u001b[0m 6ms/step - accuracy: 0.8596 - loss: 0.3280 - val_accuracy: 0.8301 - val_loss: 0.3664\n",
            "Epoch 6/50\n",
            "\u001b[1m45/45\u001b[0m \u001b[32m━━━━━━━━━━━━━━━━━━━━\u001b[0m\u001b[37m\u001b[0m \u001b[1m1s\u001b[0m 5ms/step - accuracy: 0.8554 - loss: 0.3287 - val_accuracy: 0.8524 - val_loss: 0.3560\n",
            "Epoch 7/50\n",
            "\u001b[1m45/45\u001b[0m \u001b[32m━━━━━━━━━━━━━━━━━━━━\u001b[0m\u001b[37m\u001b[0m \u001b[1m0s\u001b[0m 6ms/step - accuracy: 0.8813 - loss: 0.2854 - val_accuracy: 0.8496 - val_loss: 0.3490\n",
            "Epoch 8/50\n",
            "\u001b[1m45/45\u001b[0m \u001b[32m━━━━━━━━━━━━━━━━━━━━\u001b[0m\u001b[37m\u001b[0m \u001b[1m1s\u001b[0m 8ms/step - accuracy: 0.8668 - loss: 0.3170 - val_accuracy: 0.8552 - val_loss: 0.3467\n",
            "Epoch 9/50\n",
            "\u001b[1m45/45\u001b[0m \u001b[32m━━━━━━━━━━━━━━━━━━━━\u001b[0m\u001b[37m\u001b[0m \u001b[1m0s\u001b[0m 5ms/step - accuracy: 0.8766 - loss: 0.2809 - val_accuracy: 0.8524 - val_loss: 0.3440\n",
            "Epoch 10/50\n",
            "\u001b[1m45/45\u001b[0m \u001b[32m━━━━━━━━━━━━━━━━━━━━\u001b[0m\u001b[37m\u001b[0m \u001b[1m0s\u001b[0m 5ms/step - accuracy: 0.8792 - loss: 0.2827 - val_accuracy: 0.8552 - val_loss: 0.3449\n",
            "Epoch 11/50\n",
            "\u001b[1m45/45\u001b[0m \u001b[32m━━━━━━━━━━━━━━━━━━━━\u001b[0m\u001b[37m\u001b[0m \u001b[1m0s\u001b[0m 5ms/step - accuracy: 0.8829 - loss: 0.2715 - val_accuracy: 0.8635 - val_loss: 0.3418\n",
            "Epoch 12/50\n",
            "\u001b[1m45/45\u001b[0m \u001b[32m━━━━━━━━━━━━━━━━━━━━\u001b[0m\u001b[37m\u001b[0m \u001b[1m0s\u001b[0m 5ms/step - accuracy: 0.8909 - loss: 0.2602 - val_accuracy: 0.8552 - val_loss: 0.3435\n",
            "Epoch 13/50\n",
            "\u001b[1m45/45\u001b[0m \u001b[32m━━━━━━━━━━━━━━━━━━━━\u001b[0m\u001b[37m\u001b[0m \u001b[1m0s\u001b[0m 4ms/step - accuracy: 0.8776 - loss: 0.2871 - val_accuracy: 0.8552 - val_loss: 0.3411\n",
            "Epoch 14/50\n",
            "\u001b[1m45/45\u001b[0m \u001b[32m━━━━━━━━━━━━━━━━━━━━\u001b[0m\u001b[37m\u001b[0m \u001b[1m0s\u001b[0m 3ms/step - accuracy: 0.8852 - loss: 0.2633 - val_accuracy: 0.8579 - val_loss: 0.3419\n",
            "Epoch 15/50\n",
            "\u001b[1m45/45\u001b[0m \u001b[32m━━━━━━━━━━━━━━━━━━━━\u001b[0m\u001b[37m\u001b[0m \u001b[1m0s\u001b[0m 3ms/step - accuracy: 0.8944 - loss: 0.2570 - val_accuracy: 0.8579 - val_loss: 0.3406\n",
            "Epoch 16/50\n",
            "\u001b[1m45/45\u001b[0m \u001b[32m━━━━━━━━━━━━━━━━━━━━\u001b[0m\u001b[37m\u001b[0m \u001b[1m0s\u001b[0m 4ms/step - accuracy: 0.8915 - loss: 0.2503 - val_accuracy: 0.8635 - val_loss: 0.3396\n",
            "Epoch 17/50\n",
            "\u001b[1m45/45\u001b[0m \u001b[32m━━━━━━━━━━━━━━━━━━━━\u001b[0m\u001b[37m\u001b[0m \u001b[1m0s\u001b[0m 3ms/step - accuracy: 0.8947 - loss: 0.2418 - val_accuracy: 0.8635 - val_loss: 0.3408\n",
            "Epoch 18/50\n",
            "\u001b[1m45/45\u001b[0m \u001b[32m━━━━━━━━━━━━━━━━━━━━\u001b[0m\u001b[37m\u001b[0m \u001b[1m0s\u001b[0m 4ms/step - accuracy: 0.8895 - loss: 0.2606 - val_accuracy: 0.8691 - val_loss: 0.3395\n",
            "Epoch 19/50\n",
            "\u001b[1m45/45\u001b[0m \u001b[32m━━━━━━━━━━━━━━━━━━━━\u001b[0m\u001b[37m\u001b[0m \u001b[1m0s\u001b[0m 3ms/step - accuracy: 0.8992 - loss: 0.2402 - val_accuracy: 0.8719 - val_loss: 0.3399\n",
            "Epoch 20/50\n",
            "\u001b[1m45/45\u001b[0m \u001b[32m━━━━━━━━━━━━━━━━━━━━\u001b[0m\u001b[37m\u001b[0m \u001b[1m0s\u001b[0m 3ms/step - accuracy: 0.8908 - loss: 0.2532 - val_accuracy: 0.8774 - val_loss: 0.3404\n",
            "Epoch 21/50\n",
            "\u001b[1m45/45\u001b[0m \u001b[32m━━━━━━━━━━━━━━━━━━━━\u001b[0m\u001b[37m\u001b[0m \u001b[1m0s\u001b[0m 3ms/step - accuracy: 0.8962 - loss: 0.2324 - val_accuracy: 0.8691 - val_loss: 0.3404\n",
            "Epoch 22/50\n",
            "\u001b[1m45/45\u001b[0m \u001b[32m━━━━━━━━━━━━━━━━━━━━\u001b[0m\u001b[37m\u001b[0m \u001b[1m0s\u001b[0m 3ms/step - accuracy: 0.9152 - loss: 0.2282 - val_accuracy: 0.8691 - val_loss: 0.3402\n",
            "Epoch 23/50\n",
            "\u001b[1m45/45\u001b[0m \u001b[32m━━━━━━━━━━━━━━━━━━━━\u001b[0m\u001b[37m\u001b[0m \u001b[1m0s\u001b[0m 4ms/step - accuracy: 0.9035 - loss: 0.2275 - val_accuracy: 0.8802 - val_loss: 0.3400\n",
            "Epoch 24/50\n",
            "\u001b[1m45/45\u001b[0m \u001b[32m━━━━━━━━━━━━━━━━━━━━\u001b[0m\u001b[37m\u001b[0m \u001b[1m0s\u001b[0m 3ms/step - accuracy: 0.8974 - loss: 0.2251 - val_accuracy: 0.8719 - val_loss: 0.3412\n",
            "Epoch 25/50\n",
            "\u001b[1m45/45\u001b[0m \u001b[32m━━━━━━━━━━━━━━━━━━━━\u001b[0m\u001b[37m\u001b[0m \u001b[1m0s\u001b[0m 3ms/step - accuracy: 0.9058 - loss: 0.2175 - val_accuracy: 0.8747 - val_loss: 0.3411\n",
            "Epoch 26/50\n",
            "\u001b[1m45/45\u001b[0m \u001b[32m━━━━━━━━━━━━━━━━━━━━\u001b[0m\u001b[37m\u001b[0m \u001b[1m0s\u001b[0m 4ms/step - accuracy: 0.9045 - loss: 0.2263 - val_accuracy: 0.8802 - val_loss: 0.3409\n",
            "Epoch 27/50\n",
            "\u001b[1m45/45\u001b[0m \u001b[32m━━━━━━━━━━━━━━━━━━━━\u001b[0m\u001b[37m\u001b[0m \u001b[1m0s\u001b[0m 5ms/step - accuracy: 0.9025 - loss: 0.2243 - val_accuracy: 0.8774 - val_loss: 0.3427\n",
            "Epoch 28/50\n",
            "\u001b[1m45/45\u001b[0m \u001b[32m━━━━━━━━━━━━━━━━━━━━\u001b[0m\u001b[37m\u001b[0m \u001b[1m0s\u001b[0m 5ms/step - accuracy: 0.9069 - loss: 0.2141 - val_accuracy: 0.8691 - val_loss: 0.3446\n",
            "Epoch 29/50\n",
            "\u001b[1m45/45\u001b[0m \u001b[32m━━━━━━━━━━━━━━━━━━━━\u001b[0m\u001b[37m\u001b[0m \u001b[1m0s\u001b[0m 5ms/step - accuracy: 0.9024 - loss: 0.2306 - val_accuracy: 0.8663 - val_loss: 0.3457\n",
            "Epoch 30/50\n",
            "\u001b[1m45/45\u001b[0m \u001b[32m━━━━━━━━━━━━━━━━━━━━\u001b[0m\u001b[37m\u001b[0m \u001b[1m0s\u001b[0m 5ms/step - accuracy: 0.9139 - loss: 0.2125 - val_accuracy: 0.8691 - val_loss: 0.3467\n",
            "Epoch 31/50\n",
            "\u001b[1m45/45\u001b[0m \u001b[32m━━━━━━━━━━━━━━━━━━━━\u001b[0m\u001b[37m\u001b[0m \u001b[1m0s\u001b[0m 5ms/step - accuracy: 0.9125 - loss: 0.2133 - val_accuracy: 0.8663 - val_loss: 0.3452\n",
            "Epoch 32/50\n",
            "\u001b[1m45/45\u001b[0m \u001b[32m━━━━━━━━━━━━━━━━━━━━\u001b[0m\u001b[37m\u001b[0m \u001b[1m0s\u001b[0m 5ms/step - accuracy: 0.9202 - loss: 0.1982 - val_accuracy: 0.8691 - val_loss: 0.3467\n",
            "Epoch 33/50\n",
            "\u001b[1m45/45\u001b[0m \u001b[32m━━━━━━━━━━━━━━━━━━━━\u001b[0m\u001b[37m\u001b[0m \u001b[1m0s\u001b[0m 5ms/step - accuracy: 0.9187 - loss: 0.2019 - val_accuracy: 0.8663 - val_loss: 0.3461\n",
            "Epoch 34/50\n",
            "\u001b[1m45/45\u001b[0m \u001b[32m━━━━━━━━━━━━━━━━━━━━\u001b[0m\u001b[37m\u001b[0m \u001b[1m0s\u001b[0m 5ms/step - accuracy: 0.8969 - loss: 0.2206 - val_accuracy: 0.8691 - val_loss: 0.3479\n",
            "Epoch 35/50\n",
            "\u001b[1m45/45\u001b[0m \u001b[32m━━━━━━━━━━━━━━━━━━━━\u001b[0m\u001b[37m\u001b[0m \u001b[1m0s\u001b[0m 3ms/step - accuracy: 0.9049 - loss: 0.2097 - val_accuracy: 0.8607 - val_loss: 0.3513\n",
            "Epoch 36/50\n",
            "\u001b[1m45/45\u001b[0m \u001b[32m━━━━━━━━━━━━━━━━━━━━\u001b[0m\u001b[37m\u001b[0m \u001b[1m0s\u001b[0m 4ms/step - accuracy: 0.8990 - loss: 0.2262 - val_accuracy: 0.8663 - val_loss: 0.3505\n",
            "Epoch 37/50\n",
            "\u001b[1m45/45\u001b[0m \u001b[32m━━━━━━━━━━━━━━━━━━━━\u001b[0m\u001b[37m\u001b[0m \u001b[1m0s\u001b[0m 3ms/step - accuracy: 0.9229 - loss: 0.1804 - val_accuracy: 0.8663 - val_loss: 0.3504\n",
            "Epoch 38/50\n",
            "\u001b[1m45/45\u001b[0m \u001b[32m━━━━━━━━━━━━━━━━━━━━\u001b[0m\u001b[37m\u001b[0m \u001b[1m0s\u001b[0m 3ms/step - accuracy: 0.9094 - loss: 0.2055 - val_accuracy: 0.8663 - val_loss: 0.3493\n",
            "Epoch 39/50\n",
            "\u001b[1m45/45\u001b[0m \u001b[32m━━━━━━━━━━━━━━━━━━━━\u001b[0m\u001b[37m\u001b[0m \u001b[1m0s\u001b[0m 3ms/step - accuracy: 0.9163 - loss: 0.2055 - val_accuracy: 0.8719 - val_loss: 0.3504\n",
            "Epoch 40/50\n",
            "\u001b[1m45/45\u001b[0m \u001b[32m━━━━━━━━━━━━━━━━━━━━\u001b[0m\u001b[37m\u001b[0m \u001b[1m0s\u001b[0m 3ms/step - accuracy: 0.8957 - loss: 0.2174 - val_accuracy: 0.8747 - val_loss: 0.3525\n",
            "Epoch 41/50\n",
            "\u001b[1m45/45\u001b[0m \u001b[32m━━━━━━━━━━━━━━━━━━━━\u001b[0m\u001b[37m\u001b[0m \u001b[1m0s\u001b[0m 4ms/step - accuracy: 0.9187 - loss: 0.1971 - val_accuracy: 0.8579 - val_loss: 0.3546\n",
            "Epoch 42/50\n",
            "\u001b[1m45/45\u001b[0m \u001b[32m━━━━━━━━━━━━━━━━━━━━\u001b[0m\u001b[37m\u001b[0m \u001b[1m0s\u001b[0m 6ms/step - accuracy: 0.9076 - loss: 0.2129 - val_accuracy: 0.8691 - val_loss: 0.3554\n",
            "Epoch 43/50\n",
            "\u001b[1m45/45\u001b[0m \u001b[32m━━━━━━━━━━━━━━━━━━━━\u001b[0m\u001b[37m\u001b[0m \u001b[1m0s\u001b[0m 6ms/step - accuracy: 0.9133 - loss: 0.1901 - val_accuracy: 0.8719 - val_loss: 0.3544\n",
            "Epoch 44/50\n",
            "\u001b[1m45/45\u001b[0m \u001b[32m━━━━━━━━━━━━━━━━━━━━\u001b[0m\u001b[37m\u001b[0m \u001b[1m1s\u001b[0m 5ms/step - accuracy: 0.9175 - loss: 0.1842 - val_accuracy: 0.8663 - val_loss: 0.3575\n",
            "Epoch 45/50\n",
            "\u001b[1m45/45\u001b[0m \u001b[32m━━━━━━━━━━━━━━━━━━━━\u001b[0m\u001b[37m\u001b[0m \u001b[1m0s\u001b[0m 6ms/step - accuracy: 0.9143 - loss: 0.1961 - val_accuracy: 0.8635 - val_loss: 0.3580\n",
            "Epoch 46/50\n",
            "\u001b[1m45/45\u001b[0m \u001b[32m━━━━━━━━━━━━━━━━━━━━\u001b[0m\u001b[37m\u001b[0m \u001b[1m1s\u001b[0m 5ms/step - accuracy: 0.9125 - loss: 0.2166 - val_accuracy: 0.8579 - val_loss: 0.3571\n",
            "Epoch 47/50\n",
            "\u001b[1m45/45\u001b[0m \u001b[32m━━━━━━━━━━━━━━━━━━━━\u001b[0m\u001b[37m\u001b[0m \u001b[1m0s\u001b[0m 5ms/step - accuracy: 0.9152 - loss: 0.2075 - val_accuracy: 0.8691 - val_loss: 0.3602\n",
            "Epoch 48/50\n",
            "\u001b[1m45/45\u001b[0m \u001b[32m━━━━━━━━━━━━━━━━━━━━\u001b[0m\u001b[37m\u001b[0m \u001b[1m0s\u001b[0m 5ms/step - accuracy: 0.9206 - loss: 0.2059 - val_accuracy: 0.8691 - val_loss: 0.3588\n",
            "Epoch 49/50\n",
            "\u001b[1m45/45\u001b[0m \u001b[32m━━━━━━━━━━━━━━━━━━━━\u001b[0m\u001b[37m\u001b[0m \u001b[1m0s\u001b[0m 5ms/step - accuracy: 0.9312 - loss: 0.1730 - val_accuracy: 0.8524 - val_loss: 0.3621\n",
            "Epoch 50/50\n",
            "\u001b[1m45/45\u001b[0m \u001b[32m━━━━━━━━━━━━━━━━━━━━\u001b[0m\u001b[37m\u001b[0m \u001b[1m0s\u001b[0m 5ms/step - accuracy: 0.9265 - loss: 0.1809 - val_accuracy: 0.8552 - val_loss: 0.3603\n",
            "\u001b[1m56/56\u001b[0m \u001b[32m━━━━━━━━━━━━━━━━━━━━\u001b[0m\u001b[37m\u001b[0m \u001b[1m0s\u001b[0m 1ms/step  \n",
            "\u001b[1m14/14\u001b[0m \u001b[32m━━━━━━━━━━━━━━━━━━━━\u001b[0m\u001b[37m\u001b[0m \u001b[1m0s\u001b[0m 2ms/step \n",
            "\n",
            "Akurasi Training Set: 91.02%\n",
            "Akurasi Testing Set: 88.84%\n",
            "\n",
            "F1-Score Training Set: 0.66\n",
            "F1-Score Testing Set: 0.55\n",
            "\n",
            "Classification Report (Test Set):\n",
            "               precision    recall  f1-score   support\n",
            "\n",
            "           0       0.91      0.97      0.94       381\n",
            "           1       0.70      0.45      0.55        67\n",
            "\n",
            "    accuracy                           0.89       448\n",
            "   macro avg       0.80      0.71      0.74       448\n",
            "weighted avg       0.88      0.89      0.88       448\n",
            "\n",
            "\n",
            "Confusion Matrix (Test Set):\n",
            " [[368  13]\n",
            " [ 37  30]]\n"
          ]
        }
      ]
    },
    {
      "cell_type": "markdown",
      "source": [
        " **Interpretasi Hasil**\n",
        "\n",
        "Berdasarkan hasil evaluasi model Neural Network yang dibangun, diperoleh akurasi sebesar 88% pada data testing, yang menunjukkan bahwa model memiliki kemampuan yang cukup baik dalam memprediksi apakah seorang pelanggan akan merespon kampanye pemasaran atau tidak. Tingginya nilai akurasi ini mengindikasikan bahwa sebagian besar prediksi model sesuai dengan kondisi aktual pelanggan di data uji.\n",
        "\n",
        "Selain itu, hasil analisis mengungkapkan bahwa terdapat beberapa variabel yang berperan penting dalam mempengaruhi hasil prediksi model. Variabel-variabel tersebut meliputi:\n",
        "\n",
        "1. Income (Pendapatan):\n",
        "\n",
        "Pendapatan pelanggan menjadi salah satu faktor utama yang membedakan kecenderungan respon terhadap kampanye. Pelanggan dengan tingkat pendapatan tertentu lebih cenderung merespon penawaran atau kampanye yang diberikan.\n",
        "\n",
        "2. Pengeluaran Produk Tertentu:\n",
        "\n",
        "Pola pembelian produk tertentu, seperti wine dan daging, berkontribusi signifikan dalam membentuk pola prediksi model. Pelanggan yang memiliki pengeluaran lebih tinggi pada kategori produk ini cenderung menunjukkan perilaku yang berbeda dalam merespon kampanye dibandingkan dengan pelanggan lain.\n",
        "\n",
        "3. Faktor Demografis:\n",
        "\n",
        "Faktor seperti tingkat pendidikan dan status pernikahan juga turut mempengaruhi kecenderungan pelanggan dalam memberikan respon. Pelanggan dengan latar belakang pendidikan yang lebih tinggi dan status pernikahan tertentu menunjukkan kecenderungan respon yang berbeda terhadap kampanye pemasaran.\n",
        "\n",
        "Namun demikian, meskipun model memiliki akurasi tinggi, nilai F1-Score untuk kelas pelanggan yang merespon kampanye masih relatif rendah. Hal ini mengindikasikan bahwa model masih belum optimal dalam mendeteksi seluruh pelanggan yang berpotensi memberikan respon positif terhadap kampanye. Oleh karena itu, perbaikan model melalui teknik penyeimbangan data atau optimasi parameter dapat dipertimbangkan untuk meningkatkan kinerja model pada prediksi respon pelanggan yang lebih akurat.\n",
        "\n",
        " **Rekomendasi Bisnis**\n",
        "\n",
        "Berdasarkan hasil model, rekomendasi berikut dapat diberikan:\n",
        "\n",
        "a. Targeted Marketing:\n",
        "\n",
        "  Fokus kampanye kepada pelanggan dengan tingkat pendapatan menengah-tinggi dan pola belanja pada produk wine dan daging.\n",
        "\n",
        "b. Personalisasi Promosi:\n",
        "\n",
        "  Kembangkan promosi yang disesuaikan untuk segmen pelanggan muda atau keluarga dengan anak karena mereka menunjukkan pola respons berbeda.\n",
        "\n",
        "c. Efisiensi Anggaran Kampanye:\n",
        "\n",
        "  Kurangi distribusi kampanye ke pelanggan yang diprediksi tidak responsif, sehingga biaya promosi lebih efektif dan Return on Investment (ROI) meningkat.\n",
        "\n",
        "d. Peningkatan Customer Retention:\n",
        "\n",
        "   Segmen pelanggan dengan nilai Recency tinggi (lama tidak belanja) untuk program re-engagement seperti diskon khusus atau penawaran personal."
      ],
      "metadata": {
        "id": "HbmtnOYox_RH"
      }
    }
  ]
}